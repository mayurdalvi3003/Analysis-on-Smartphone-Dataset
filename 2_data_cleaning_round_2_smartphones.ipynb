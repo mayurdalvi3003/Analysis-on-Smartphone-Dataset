{
 "cells": [
  {
   "cell_type": "code",
   "execution_count": 1,
   "metadata": {
    "id": "Kk4iBijw9bVh"
   },
   "outputs": [],
   "source": [
    "import pandas as pd\n",
    "import numpy as np\n",
    "import seaborn as sns\n",
    "import matplotlib.pyplot as plt"
   ]
  },
  {
   "cell_type": "code",
   "execution_count": 2,
   "metadata": {
    "id": "qJDQfDaD9ryN"
   },
   "outputs": [],
   "source": [
    "pd.set_option('display.max_columns',None)"
   ]
  },
  {
   "cell_type": "code",
   "execution_count": 3,
   "metadata": {
    "id": "N19kxct_9jzp"
   },
   "outputs": [],
   "source": [
    "df = pd.read_csv('smartphone_cleaned_v2.csv')"
   ]
  },
  {
   "cell_type": "code",
   "execution_count": 4,
   "metadata": {
    "colab": {
     "base_uri": "https://localhost:8080/"
    },
    "id": "_-tXOFdh9m_S",
    "outputId": "6af5a11f-1860-4b49-feec-2c11b7ff6db8"
   },
   "outputs": [
    {
     "data": {
      "text/plain": [
       "(980, 24)"
      ]
     },
     "execution_count": 4,
     "metadata": {},
     "output_type": "execute_result"
    }
   ],
   "source": [
    "df.shape"
   ]
  },
  {
   "cell_type": "code",
   "execution_count": 5,
   "metadata": {
    "colab": {
     "base_uri": "https://localhost:8080/",
     "height": 426
    },
    "id": "_pnv8iHc9oHK",
    "outputId": "bb79c980-d2cf-42d0-96c0-978d89caf92b"
   },
   "outputs": [
    {
     "data": {
      "text/html": [
       "<div>\n",
       "<style scoped>\n",
       "    .dataframe tbody tr th:only-of-type {\n",
       "        vertical-align: middle;\n",
       "    }\n",
       "\n",
       "    .dataframe tbody tr th {\n",
       "        vertical-align: top;\n",
       "    }\n",
       "\n",
       "    .dataframe thead th {\n",
       "        text-align: right;\n",
       "    }\n",
       "</style>\n",
       "<table border=\"1\" class=\"dataframe\">\n",
       "  <thead>\n",
       "    <tr style=\"text-align: right;\">\n",
       "      <th></th>\n",
       "      <th>brand_name</th>\n",
       "      <th>model</th>\n",
       "      <th>price</th>\n",
       "      <th>rating</th>\n",
       "      <th>has_5g</th>\n",
       "      <th>has_nfc</th>\n",
       "      <th>has_ir_blaster</th>\n",
       "      <th>processor_name</th>\n",
       "      <th>processor_brand</th>\n",
       "      <th>num_cores</th>\n",
       "      <th>processor_speed</th>\n",
       "      <th>battery_capacity</th>\n",
       "      <th>fast_charging</th>\n",
       "      <th>ram_capacity</th>\n",
       "      <th>internal_memory</th>\n",
       "      <th>screen_size</th>\n",
       "      <th>refresh_rate</th>\n",
       "      <th>resolution</th>\n",
       "      <th>num_rear_cameras</th>\n",
       "      <th>num_front_cameras</th>\n",
       "      <th>os</th>\n",
       "      <th>primary_camera_rear</th>\n",
       "      <th>primary_camera_front</th>\n",
       "      <th>extended_memory</th>\n",
       "    </tr>\n",
       "  </thead>\n",
       "  <tbody>\n",
       "    <tr>\n",
       "      <th>0</th>\n",
       "      <td>oneplus</td>\n",
       "      <td>OnePlus 11 5G</td>\n",
       "      <td>54999</td>\n",
       "      <td>89.0</td>\n",
       "      <td>True</td>\n",
       "      <td>True</td>\n",
       "      <td>False</td>\n",
       "      <td>Snapdragon 8 Gen2</td>\n",
       "      <td>snapdragon</td>\n",
       "      <td>Octa Core</td>\n",
       "      <td>3.2</td>\n",
       "      <td>5000.0</td>\n",
       "      <td>100</td>\n",
       "      <td>12.0</td>\n",
       "      <td>256.0</td>\n",
       "      <td>6.70</td>\n",
       "      <td>120</td>\n",
       "      <td>1440 x 3216</td>\n",
       "      <td>3</td>\n",
       "      <td>1</td>\n",
       "      <td>android</td>\n",
       "      <td>50.0</td>\n",
       "      <td>16</td>\n",
       "      <td>0</td>\n",
       "    </tr>\n",
       "    <tr>\n",
       "      <th>1</th>\n",
       "      <td>oneplus</td>\n",
       "      <td>OnePlus Nord CE 2 Lite 5G</td>\n",
       "      <td>19989</td>\n",
       "      <td>81.0</td>\n",
       "      <td>True</td>\n",
       "      <td>False</td>\n",
       "      <td>False</td>\n",
       "      <td>Snapdragon 695</td>\n",
       "      <td>snapdragon</td>\n",
       "      <td>Octa Core</td>\n",
       "      <td>2.2</td>\n",
       "      <td>5000.0</td>\n",
       "      <td>33</td>\n",
       "      <td>6.0</td>\n",
       "      <td>128.0</td>\n",
       "      <td>6.59</td>\n",
       "      <td>120</td>\n",
       "      <td>1080 x 2412</td>\n",
       "      <td>3</td>\n",
       "      <td>1</td>\n",
       "      <td>android</td>\n",
       "      <td>64.0</td>\n",
       "      <td>16</td>\n",
       "      <td>1 TB</td>\n",
       "    </tr>\n",
       "    <tr>\n",
       "      <th>2</th>\n",
       "      <td>samsung</td>\n",
       "      <td>Samsung Galaxy A14 5G</td>\n",
       "      <td>16499</td>\n",
       "      <td>75.0</td>\n",
       "      <td>True</td>\n",
       "      <td>False</td>\n",
       "      <td>False</td>\n",
       "      <td>Exynos 1330</td>\n",
       "      <td>exynos</td>\n",
       "      <td>Octa Core</td>\n",
       "      <td>2.4</td>\n",
       "      <td>5000.0</td>\n",
       "      <td>15</td>\n",
       "      <td>4.0</td>\n",
       "      <td>64.0</td>\n",
       "      <td>6.60</td>\n",
       "      <td>90</td>\n",
       "      <td>1080 x 2408</td>\n",
       "      <td>3</td>\n",
       "      <td>1</td>\n",
       "      <td>android</td>\n",
       "      <td>50.0</td>\n",
       "      <td>13</td>\n",
       "      <td>1 TB</td>\n",
       "    </tr>\n",
       "    <tr>\n",
       "      <th>3</th>\n",
       "      <td>motorola</td>\n",
       "      <td>Motorola Moto G62 5G</td>\n",
       "      <td>14999</td>\n",
       "      <td>81.0</td>\n",
       "      <td>True</td>\n",
       "      <td>False</td>\n",
       "      <td>False</td>\n",
       "      <td>Snapdragon  695</td>\n",
       "      <td>snapdragon</td>\n",
       "      <td>Octa Core</td>\n",
       "      <td>2.2</td>\n",
       "      <td>5000.0</td>\n",
       "      <td>0</td>\n",
       "      <td>6.0</td>\n",
       "      <td>128.0</td>\n",
       "      <td>6.55</td>\n",
       "      <td>120</td>\n",
       "      <td>1080 x 2400</td>\n",
       "      <td>3</td>\n",
       "      <td>1</td>\n",
       "      <td>android</td>\n",
       "      <td>50.0</td>\n",
       "      <td>16</td>\n",
       "      <td>1 TB</td>\n",
       "    </tr>\n",
       "    <tr>\n",
       "      <th>4</th>\n",
       "      <td>realme</td>\n",
       "      <td>Realme 10 Pro Plus</td>\n",
       "      <td>24999</td>\n",
       "      <td>82.0</td>\n",
       "      <td>True</td>\n",
       "      <td>False</td>\n",
       "      <td>False</td>\n",
       "      <td>Dimensity 1080</td>\n",
       "      <td>dimensity</td>\n",
       "      <td>Octa Core</td>\n",
       "      <td>2.6</td>\n",
       "      <td>5000.0</td>\n",
       "      <td>67</td>\n",
       "      <td>6.0</td>\n",
       "      <td>128.0</td>\n",
       "      <td>6.70</td>\n",
       "      <td>120</td>\n",
       "      <td>1080 x 2412</td>\n",
       "      <td>3</td>\n",
       "      <td>1</td>\n",
       "      <td>android</td>\n",
       "      <td>108.0</td>\n",
       "      <td>16</td>\n",
       "      <td>0</td>\n",
       "    </tr>\n",
       "  </tbody>\n",
       "</table>\n",
       "</div>"
      ],
      "text/plain": [
       "  brand_name                      model  price  rating  has_5g  has_nfc  \\\n",
       "0    oneplus              OnePlus 11 5G  54999    89.0    True     True   \n",
       "1    oneplus  OnePlus Nord CE 2 Lite 5G  19989    81.0    True    False   \n",
       "2    samsung      Samsung Galaxy A14 5G  16499    75.0    True    False   \n",
       "3   motorola       Motorola Moto G62 5G  14999    81.0    True    False   \n",
       "4     realme         Realme 10 Pro Plus  24999    82.0    True    False   \n",
       "\n",
       "   has_ir_blaster     processor_name processor_brand  num_cores  \\\n",
       "0           False  Snapdragon 8 Gen2      snapdragon  Octa Core   \n",
       "1           False     Snapdragon 695      snapdragon  Octa Core   \n",
       "2           False        Exynos 1330          exynos  Octa Core   \n",
       "3           False    Snapdragon  695      snapdragon  Octa Core   \n",
       "4           False     Dimensity 1080       dimensity  Octa Core   \n",
       "\n",
       "   processor_speed  battery_capacity  fast_charging  ram_capacity  \\\n",
       "0              3.2            5000.0            100          12.0   \n",
       "1              2.2            5000.0             33           6.0   \n",
       "2              2.4            5000.0             15           4.0   \n",
       "3              2.2            5000.0              0           6.0   \n",
       "4              2.6            5000.0             67           6.0   \n",
       "\n",
       "   internal_memory  screen_size  refresh_rate    resolution  num_rear_cameras  \\\n",
       "0            256.0         6.70           120  1440 x 3216                  3   \n",
       "1            128.0         6.59           120  1080 x 2412                  3   \n",
       "2             64.0         6.60            90  1080 x 2408                  3   \n",
       "3            128.0         6.55           120  1080 x 2400                  3   \n",
       "4            128.0         6.70           120  1080 x 2412                  3   \n",
       "\n",
       "  num_front_cameras       os  primary_camera_rear primary_camera_front  \\\n",
       "0                 1  android                 50.0                   16   \n",
       "1                 1  android                 64.0                   16   \n",
       "2                 1  android                 50.0                   13   \n",
       "3                 1  android                 50.0                   16   \n",
       "4                 1  android                108.0                   16   \n",
       "\n",
       "  extended_memory  \n",
       "0               0  \n",
       "1            1 TB  \n",
       "2            1 TB  \n",
       "3            1 TB  \n",
       "4               0  "
      ]
     },
     "execution_count": 5,
     "metadata": {},
     "output_type": "execute_result"
    }
   ],
   "source": [
    "df.head()"
   ]
  },
  {
   "cell_type": "code",
   "execution_count": 6,
   "metadata": {
    "colab": {
     "base_uri": "https://localhost:8080/"
    },
    "id": "Las7un4oBM3y",
    "outputId": "34398d22-a8e2-498b-b0f8-84d3d3fda008"
   },
   "outputs": [
    {
     "name": "stdout",
     "output_type": "stream",
     "text": [
      "<class 'pandas.core.frame.DataFrame'>\n",
      "RangeIndex: 980 entries, 0 to 979\n",
      "Data columns (total 24 columns):\n",
      " #   Column                Non-Null Count  Dtype  \n",
      "---  ------                --------------  -----  \n",
      " 0   brand_name            980 non-null    object \n",
      " 1   model                 980 non-null    object \n",
      " 2   price                 980 non-null    int64  \n",
      " 3   rating                879 non-null    float64\n",
      " 4   has_5g                980 non-null    bool   \n",
      " 5   has_nfc               980 non-null    bool   \n",
      " 6   has_ir_blaster        980 non-null    bool   \n",
      " 7   processor_name        960 non-null    object \n",
      " 8   processor_brand       960 non-null    object \n",
      " 9   num_cores             974 non-null    object \n",
      " 10  processor_speed       938 non-null    float64\n",
      " 11  battery_capacity      969 non-null    float64\n",
      " 12  fast_charging         980 non-null    int64  \n",
      " 13  ram_capacity          980 non-null    float64\n",
      " 14  internal_memory       978 non-null    float64\n",
      " 15  screen_size           980 non-null    float64\n",
      " 16  refresh_rate          980 non-null    int64  \n",
      " 17  resolution            980 non-null    object \n",
      " 18  num_rear_cameras      980 non-null    int64  \n",
      " 19  num_front_cameras     980 non-null    object \n",
      " 20  os                    980 non-null    object \n",
      " 21  primary_camera_rear   980 non-null    float64\n",
      " 22  primary_camera_front  976 non-null    object \n",
      " 23  extended_memory       980 non-null    object \n",
      "dtypes: bool(3), float64(7), int64(4), object(10)\n",
      "memory usage: 163.8+ KB\n"
     ]
    }
   ],
   "source": [
    "df.info()"
   ]
  },
  {
   "cell_type": "code",
   "execution_count": 7,
   "metadata": {
    "colab": {
     "base_uri": "https://localhost:8080/"
    },
    "id": "J_02Rq4h9p-2",
    "outputId": "b6471c41-8565-49bc-82b7-cfdc81618122"
   },
   "outputs": [
    {
     "data": {
      "text/plain": [
       "brand_name                0\n",
       "model                     0\n",
       "price                     0\n",
       "rating                  101\n",
       "has_5g                    0\n",
       "has_nfc                   0\n",
       "has_ir_blaster            0\n",
       "processor_name           20\n",
       "processor_brand          20\n",
       "num_cores                 6\n",
       "processor_speed          42\n",
       "battery_capacity         11\n",
       "fast_charging             0\n",
       "ram_capacity              0\n",
       "internal_memory           2\n",
       "screen_size               0\n",
       "refresh_rate              0\n",
       "resolution                0\n",
       "num_rear_cameras          0\n",
       "num_front_cameras         0\n",
       "os                        0\n",
       "primary_camera_rear       0\n",
       "primary_camera_front      4\n",
       "extended_memory           0\n",
       "dtype: int64"
      ]
     },
     "execution_count": 7,
     "metadata": {},
     "output_type": "execute_result"
    }
   ],
   "source": [
    "df.isnull().sum()"
   ]
  },
  {
   "cell_type": "code",
   "execution_count": 8,
   "metadata": {
    "colab": {
     "base_uri": "https://localhost:8080/"
    },
    "id": "Nz2Frv-l-C93",
    "outputId": "867fc821-cadb-4bb4-acf2-dca9adc8bd4d"
   },
   "outputs": [
    {
     "data": {
      "text/plain": [
       "xiaomi       134\n",
       "samsung      132\n",
       "vivo         111\n",
       "realme        97\n",
       "oppo          88\n",
       "motorola      52\n",
       "apple         46\n",
       "oneplus       42\n",
       "poco          41\n",
       "tecno         33\n",
       "iqoo          32\n",
       "infinix       29\n",
       "huawei        16\n",
       "google        14\n",
       "nokia         13\n",
       "honor         13\n",
       "itel          10\n",
       "sony           9\n",
       "asus           7\n",
       "nubia          6\n",
       "nothing        5\n",
       "lava           4\n",
       "jio            4\n",
       "gionee         3\n",
       "micromax       3\n",
       "oukitel        3\n",
       "lg             3\n",
       "redmi          3\n",
       "letv           3\n",
       "ikall          3\n",
       "royole         2\n",
       "doogee         2\n",
       "zte            2\n",
       "lenovo         2\n",
       "lyf            2\n",
       "sharp          1\n",
       "tcl            1\n",
       "cat            1\n",
       "leitz          1\n",
       "duoqin         1\n",
       "leeco          1\n",
       "blu            1\n",
       "vertu          1\n",
       "tesla          1\n",
       "cola           1\n",
       "blackview      1\n",
       "Name: brand_name, dtype: int64"
      ]
     },
     "execution_count": 8,
     "metadata": {},
     "output_type": "execute_result"
    }
   ],
   "source": [
    "# brand name\n",
    "df['brand_name'].value_counts()"
   ]
  },
  {
   "cell_type": "code",
   "execution_count": 9,
   "metadata": {
    "colab": {
     "base_uri": "https://localhost:8080/",
     "height": 321
    },
    "id": "bmUMPFkM_IbI",
    "outputId": "1bb75640-d4b7-45d2-af1e-263b9e65a961"
   },
   "outputs": [
    {
     "data": {
      "text/plain": [
       "<Axes: >"
      ]
     },
     "execution_count": 9,
     "metadata": {},
     "output_type": "execute_result"
    },
    {
     "data": {
      "image/png": "[encoded data removed]",
      "text/plain": [
       "<Figure size 640x480 with 1 Axes>"
      ]
     },
     "metadata": {},
     "output_type": "display_data"
    }
   ],
   "source": [
    "# top 10 phone brands\n",
    "df['brand_name'].value_counts().head(10).plot(kind='bar')"
   ]
  },
  {
   "cell_type": "code",
   "execution_count": 10,
   "metadata": {
    "colab": {
     "base_uri": "https://localhost:8080/"
    },
    "id": "9g90opCdAksr",
    "outputId": "d63cf9e0-4335-4bf2-9e89-f4eefb504f7e"
   },
   "outputs": [
    {
     "data": {
      "text/plain": [
       "count       980.000000\n",
       "mean      32520.504082\n",
       "std       39531.812669\n",
       "min        3499.000000\n",
       "25%       12999.000000\n",
       "50%       19994.500000\n",
       "75%       35491.500000\n",
       "max      650000.000000\n",
       "Name: price, dtype: float64"
      ]
     },
     "execution_count": 10,
     "metadata": {},
     "output_type": "execute_result"
    }
   ],
   "source": [
    "# price col\n",
    "df['price'].describe()"
   ]
  },
  {
   "cell_type": "code",
   "execution_count": 11,
   "metadata": {
    "colab": {
     "base_uri": "https://localhost:8080/",
     "height": 296
    },
    "id": "MOp0e4s7BZ8U",
    "outputId": "fe237853-2523-4704-fec7-c504051ca667"
   },
   "outputs": [
    {
     "data": {
      "text/plain": [
       "<Axes: xlabel='price', ylabel='Count'>"
      ]
     },
     "execution_count": 11,
     "metadata": {},
     "output_type": "execute_result"
    },
    {
     "data": {
      "image/png": "[encoded data removed]",
      "text/plain": [
       "<Figure size 640x480 with 1 Axes>"
      ]
     },
     "metadata": {},
     "output_type": "display_data"
    }
   ],
   "source": [
    "sns.histplot(df['price'],kde=True)"
   ]
  },
  {
   "cell_type": "code",
   "execution_count": 12,
   "metadata": {
    "colab": {
     "base_uri": "https://localhost:8080/"
    },
    "id": "cN2GW6awBpCS",
    "outputId": "db2d9de6-6c8e-4de3-cce8-98ec17fa15d9"
   },
   "outputs": [
    {
     "data": {
      "text/plain": [
       "6.591790999665567"
      ]
     },
     "execution_count": 12,
     "metadata": {},
     "output_type": "execute_result"
    }
   ],
   "source": [
    "df['price'].skew()"
   ]
  },
  {
   "cell_type": "code",
   "execution_count": 13,
   "metadata": {
    "colab": {
     "base_uri": "https://localhost:8080/",
     "height": 351
    },
    "id": "-OWGoKmLBwFT",
    "outputId": "4031a4e5-468f-41d3-bd84-8c8893d17f67"
   },
   "outputs": [
    {
     "data": {
      "text/plain": [
       "<Axes: ylabel='price'>"
      ]
     },
     "execution_count": 13,
     "metadata": {},
     "output_type": "execute_result"
    },
    {
     "data": {
      "image/png": "[encoded data removed]",
      "text/plain": [
       "<Figure size 640x480 with 1 Axes>"
      ]
     },
     "metadata": {},
     "output_type": "display_data"
    }
   ],
   "source": [
    "sns.boxplot(df[df['price']<200000]['price'])"
   ]
  },
  {
   "cell_type": "code",
   "execution_count": 14,
   "metadata": {
    "colab": {
     "base_uri": "https://localhost:8080/",
     "height": 481
    },
    "id": "I0CT4lxAB6rF",
    "outputId": "d09df662-eef6-432f-b5fa-378d380aa562"
   },
   "outputs": [
    {
     "data": {
      "text/html": [
       "<div>\n",
       "<style scoped>\n",
       "    .dataframe tbody tr th:only-of-type {\n",
       "        vertical-align: middle;\n",
       "    }\n",
       "\n",
       "    .dataframe tbody tr th {\n",
       "        vertical-align: top;\n",
       "    }\n",
       "\n",
       "    .dataframe thead th {\n",
       "        text-align: right;\n",
       "    }\n",
       "</style>\n",
       "<table border=\"1\" class=\"dataframe\">\n",
       "  <thead>\n",
       "    <tr style=\"text-align: right;\">\n",
       "      <th></th>\n",
       "      <th>brand_name</th>\n",
       "      <th>model</th>\n",
       "      <th>price</th>\n",
       "      <th>rating</th>\n",
       "      <th>has_5g</th>\n",
       "      <th>has_nfc</th>\n",
       "      <th>has_ir_blaster</th>\n",
       "      <th>processor_name</th>\n",
       "      <th>processor_brand</th>\n",
       "      <th>num_cores</th>\n",
       "      <th>processor_speed</th>\n",
       "      <th>battery_capacity</th>\n",
       "      <th>fast_charging</th>\n",
       "      <th>ram_capacity</th>\n",
       "      <th>internal_memory</th>\n",
       "      <th>screen_size</th>\n",
       "      <th>refresh_rate</th>\n",
       "      <th>resolution</th>\n",
       "      <th>num_rear_cameras</th>\n",
       "      <th>num_front_cameras</th>\n",
       "      <th>os</th>\n",
       "      <th>primary_camera_rear</th>\n",
       "      <th>primary_camera_front</th>\n",
       "      <th>extended_memory</th>\n",
       "    </tr>\n",
       "  </thead>\n",
       "  <tbody>\n",
       "    <tr>\n",
       "      <th>427</th>\n",
       "      <td>vertu</td>\n",
       "      <td>Vertu Signature Touch</td>\n",
       "      <td>650000</td>\n",
       "      <td>62.0</td>\n",
       "      <td>False</td>\n",
       "      <td>True</td>\n",
       "      <td>False</td>\n",
       "      <td>Snapdragon 801</td>\n",
       "      <td>snapdragon</td>\n",
       "      <td>Octa Core</td>\n",
       "      <td>1.50</td>\n",
       "      <td>2275.0</td>\n",
       "      <td>-1</td>\n",
       "      <td>2.0</td>\n",
       "      <td>64.0</td>\n",
       "      <td>4.70</td>\n",
       "      <td>60</td>\n",
       "      <td>1080 x 1920</td>\n",
       "      <td>1</td>\n",
       "      <td>1</td>\n",
       "      <td>android</td>\n",
       "      <td>13.0</td>\n",
       "      <td>2.1</td>\n",
       "      <td>0</td>\n",
       "    </tr>\n",
       "    <tr>\n",
       "      <th>478</th>\n",
       "      <td>huawei</td>\n",
       "      <td>Huawei Mate 50 RS Porsche Design</td>\n",
       "      <td>239999</td>\n",
       "      <td>81.0</td>\n",
       "      <td>False</td>\n",
       "      <td>True</td>\n",
       "      <td>True</td>\n",
       "      <td>Snapdragon 8+ Gen1</td>\n",
       "      <td>snapdragon</td>\n",
       "      <td>Octa Core</td>\n",
       "      <td>3.20</td>\n",
       "      <td>4700.0</td>\n",
       "      <td>66</td>\n",
       "      <td>12.0</td>\n",
       "      <td>512.0</td>\n",
       "      <td>6.74</td>\n",
       "      <td>120</td>\n",
       "      <td>1212 x 2616</td>\n",
       "      <td>3</td>\n",
       "      <td>1</td>\n",
       "      <td>Hongmeng OS v3.0</td>\n",
       "      <td>50.0</td>\n",
       "      <td>13</td>\n",
       "      <td>256 GB</td>\n",
       "    </tr>\n",
       "    <tr>\n",
       "      <th>887</th>\n",
       "      <td>xiaomi</td>\n",
       "      <td>Xiaomi Redmi K20 Pro Signature Edition</td>\n",
       "      <td>480000</td>\n",
       "      <td>88.0</td>\n",
       "      <td>False</td>\n",
       "      <td>True</td>\n",
       "      <td>False</td>\n",
       "      <td>Snapdragon  855</td>\n",
       "      <td>snapdragon</td>\n",
       "      <td>Octa Core</td>\n",
       "      <td>2.80</td>\n",
       "      <td>4000.0</td>\n",
       "      <td>27</td>\n",
       "      <td>8.0</td>\n",
       "      <td>256.0</td>\n",
       "      <td>6.39</td>\n",
       "      <td>60</td>\n",
       "      <td>1080 x 2340</td>\n",
       "      <td>3</td>\n",
       "      <td>1</td>\n",
       "      <td>android</td>\n",
       "      <td>48.0</td>\n",
       "      <td>20</td>\n",
       "      <td>0</td>\n",
       "    </tr>\n",
       "    <tr>\n",
       "      <th>951</th>\n",
       "      <td>huawei</td>\n",
       "      <td>Huawei Mate 30 RS Porsche Design</td>\n",
       "      <td>214990</td>\n",
       "      <td>NaN</td>\n",
       "      <td>True</td>\n",
       "      <td>True</td>\n",
       "      <td>True</td>\n",
       "      <td>Kirin  990</td>\n",
       "      <td>kirin</td>\n",
       "      <td>Octa Core</td>\n",
       "      <td>2.86</td>\n",
       "      <td>4500.0</td>\n",
       "      <td>0</td>\n",
       "      <td>12.0</td>\n",
       "      <td>512.0</td>\n",
       "      <td>6.53</td>\n",
       "      <td>60</td>\n",
       "      <td>1176 x 2400</td>\n",
       "      <td>4</td>\n",
       "      <td>2</td>\n",
       "      <td>android</td>\n",
       "      <td>40.0</td>\n",
       "      <td>32</td>\n",
       "      <td>256 GB</td>\n",
       "    </tr>\n",
       "  </tbody>\n",
       "</table>\n",
       "</div>"
      ],
      "text/plain": [
       "    brand_name                                   model   price  rating  \\\n",
       "427      vertu                   Vertu Signature Touch  650000    62.0   \n",
       "478     huawei        Huawei Mate 50 RS Porsche Design  239999    81.0   \n",
       "887     xiaomi  Xiaomi Redmi K20 Pro Signature Edition  480000    88.0   \n",
       "951     huawei        Huawei Mate 30 RS Porsche Design  214990     NaN   \n",
       "\n",
       "     has_5g  has_nfc  has_ir_blaster      processor_name processor_brand  \\\n",
       "427   False     True           False      Snapdragon 801      snapdragon   \n",
       "478   False     True            True  Snapdragon 8+ Gen1      snapdragon   \n",
       "887   False     True           False     Snapdragon  855      snapdragon   \n",
       "951    True     True            True          Kirin  990           kirin   \n",
       "\n",
       "     num_cores  processor_speed  battery_capacity  fast_charging  \\\n",
       "427  Octa Core             1.50            2275.0             -1   \n",
       "478  Octa Core             3.20            4700.0             66   \n",
       "887  Octa Core             2.80            4000.0             27   \n",
       "951  Octa Core             2.86            4500.0              0   \n",
       "\n",
       "     ram_capacity  internal_memory  screen_size  refresh_rate    resolution  \\\n",
       "427           2.0             64.0         4.70            60  1080 x 1920    \n",
       "478          12.0            512.0         6.74           120  1212 x 2616    \n",
       "887           8.0            256.0         6.39            60  1080 x 2340    \n",
       "951          12.0            512.0         6.53            60  1176 x 2400    \n",
       "\n",
       "     num_rear_cameras num_front_cameras                os  \\\n",
       "427                 1                 1           android   \n",
       "478                 3                 1  Hongmeng OS v3.0   \n",
       "887                 3                 1           android   \n",
       "951                 4                 2           android   \n",
       "\n",
       "     primary_camera_rear primary_camera_front extended_memory  \n",
       "427                 13.0                  2.1               0  \n",
       "478                 50.0                   13          256 GB  \n",
       "887                 48.0                   20               0  \n",
       "951                 40.0                   32          256 GB  "
      ]
     },
     "execution_count": 14,
     "metadata": {},
     "output_type": "execute_result"
    }
   ],
   "source": [
    "df[df['price']>200000]"
   ]
  },
  {
   "cell_type": "code",
   "execution_count": 15,
   "metadata": {
    "colab": {
     "base_uri": "https://localhost:8080/"
    },
    "id": "-hHA-gSICJ8g",
    "outputId": "6187c3b1-7378-4d2b-f1da-124e5d52779c"
   },
   "outputs": [
    {
     "data": {
      "text/plain": [
       "0"
      ]
     },
     "execution_count": 15,
     "metadata": {},
     "output_type": "execute_result"
    }
   ],
   "source": [
    "df['price'].isnull().sum()"
   ]
  },
  {
   "cell_type": "code",
   "execution_count": 16,
   "metadata": {
    "id": "uiT3TrclHrE_"
   },
   "outputs": [],
   "source": [
    "# rating col"
   ]
  },
  {
   "cell_type": "code",
   "execution_count": 17,
   "metadata": {
    "colab": {
     "base_uri": "https://localhost:8080/"
    },
    "id": "KFVhAq4QHtSN",
    "outputId": "b13fd533-0c32-4691-97e5-1d714cf8382d"
   },
   "outputs": [
    {
     "data": {
      "text/plain": [
       "count    879.000000\n",
       "mean      78.258248\n",
       "std        7.402854\n",
       "min       60.000000\n",
       "25%       74.000000\n",
       "50%       80.000000\n",
       "75%       84.000000\n",
       "max       89.000000\n",
       "Name: rating, dtype: float64"
      ]
     },
     "execution_count": 17,
     "metadata": {},
     "output_type": "execute_result"
    }
   ],
   "source": [
    "df['rating'].describe()"
   ]
  },
  {
   "cell_type": "code",
   "execution_count": 18,
   "metadata": {
    "colab": {
     "base_uri": "https://localhost:8080/",
     "height": 299
    },
    "id": "hFGme4ZSHvxY",
    "outputId": "80a076ae-c9e8-4458-d53f-7f62921544a2"
   },
   "outputs": [
    {
     "data": {
      "text/plain": [
       "<Axes: xlabel='rating', ylabel='Count'>"
      ]
     },
     "execution_count": 18,
     "metadata": {},
     "output_type": "execute_result"
    },
    {
     "data": {
      "image/png": "[encoded data removed]",
      "text/plain": [
       "<Figure size 640x480 with 1 Axes>"
      ]
     },
     "metadata": {},
     "output_type": "display_data"
    }
   ],
   "source": [
    "sns.histplot(df['rating'],kde=True)"
   ]
  },
  {
   "cell_type": "code",
   "execution_count": 19,
   "metadata": {
    "colab": {
     "base_uri": "https://localhost:8080/"
    },
    "id": "oQJq4SlKH4u8",
    "outputId": "3f635a78-feba-4c75-f95a-95031ae3c85a"
   },
   "outputs": [
    {
     "data": {
      "text/plain": [
       "-0.6989993034105535"
      ]
     },
     "execution_count": 19,
     "metadata": {},
     "output_type": "execute_result"
    }
   ],
   "source": [
    "df['rating'].skew()"
   ]
  },
  {
   "cell_type": "code",
   "execution_count": 20,
   "metadata": {
    "colab": {
     "base_uri": "https://localhost:8080/",
     "height": 351
    },
    "id": "n3IHamiXH9vX",
    "outputId": "1e16d792-2241-42f8-f6c9-69aa16f6adbc"
   },
   "outputs": [
    {
     "data": {
      "text/plain": [
       "<Axes: ylabel='rating'>"
      ]
     },
     "execution_count": 20,
     "metadata": {},
     "output_type": "execute_result"
    },
    {
     "data": {
      "image/png": "[encoded data removed]",
      "text/plain": [
       "<Figure size 640x480 with 1 Axes>"
      ]
     },
     "metadata": {},
     "output_type": "display_data"
    }
   ],
   "source": [
    "sns.boxplot(df['rating'])"
   ]
  },
  {
   "cell_type": "code",
   "execution_count": 21,
   "metadata": {
    "colab": {
     "base_uri": "https://localhost:8080/"
    },
    "id": "-GWy9MSTIDeT",
    "outputId": "5167aa99-9fc5-49cc-ce05-e89e0208282f"
   },
   "outputs": [
    {
     "data": {
      "text/plain": [
       "101"
      ]
     },
     "execution_count": 21,
     "metadata": {},
     "output_type": "execute_result"
    }
   ],
   "source": [
    "df['rating'].isnull().sum()"
   ]
  },
  {
   "cell_type": "code",
   "execution_count": 22,
   "metadata": {
    "colab": {
     "base_uri": "https://localhost:8080/",
     "height": 352
    },
    "id": "swi0LsL3IJW-",
    "outputId": "bee71179-b71d-4c1c-cbc6-09b3d844c01d"
   },
   "outputs": [
    {
     "data": {
      "text/plain": [
       "<Axes: ylabel='count'>"
      ]
     },
     "execution_count": 22,
     "metadata": {},
     "output_type": "execute_result"
    },
    {
     "data": {
      "image/png": "[encoded data removed]",
      "text/plain": [
       "<Figure size 640x480 with 1 Axes>"
      ]
     },
     "metadata": {},
     "output_type": "display_data"
    }
   ],
   "source": [
    "sns.countplot(df['has_5g'])"
   ]
  },
  {
   "cell_type": "code",
   "execution_count": 23,
   "metadata": {
    "colab": {
     "base_uri": "https://localhost:8080/"
    },
    "id": "e1LCqHLyIR49",
    "outputId": "099fbaba-8e6d-4c7e-ecba-c07694098b87"
   },
   "outputs": [
    {
     "data": {
      "text/plain": [
       "True     549\n",
       "False    431\n",
       "Name: has_5g, dtype: int64"
      ]
     },
     "execution_count": 23,
     "metadata": {},
     "output_type": "execute_result"
    }
   ],
   "source": [
    "df['has_5g'].value_counts()"
   ]
  },
  {
   "cell_type": "code",
   "execution_count": 24,
   "metadata": {
    "colab": {
     "base_uri": "https://localhost:8080/",
     "height": 352
    },
    "id": "S_PA3DK5IdsA",
    "outputId": "f1e04421-79f0-473c-f455-5d3aefce04dd"
   },
   "outputs": [
    {
     "data": {
      "text/plain": [
       "<Axes: ylabel='count'>"
      ]
     },
     "execution_count": 24,
     "metadata": {},
     "output_type": "execute_result"
    },
    {
     "data": {
      "image/png": "[encoded data removed]",
      "text/plain": [
       "<Figure size 640x480 with 1 Axes>"
      ]
     },
     "metadata": {},
     "output_type": "display_data"
    }
   ],
   "source": [
    "sns.countplot(df['has_nfc'])"
   ]
  },
  {
   "cell_type": "code",
   "execution_count": 25,
   "metadata": {
    "colab": {
     "base_uri": "https://localhost:8080/"
    },
    "id": "fxjjgWS0IqZA",
    "outputId": "c7ae7470-a16e-47f2-bcad-93876635f5c1"
   },
   "outputs": [
    {
     "data": {
      "text/plain": [
       "False    587\n",
       "True     393\n",
       "Name: has_nfc, dtype: int64"
      ]
     },
     "execution_count": 25,
     "metadata": {},
     "output_type": "execute_result"
    }
   ],
   "source": [
    "df['has_nfc'].value_counts()"
   ]
  },
  {
   "cell_type": "code",
   "execution_count": 26,
   "metadata": {
    "colab": {
     "base_uri": "https://localhost:8080/",
     "height": 352
    },
    "id": "PJrGenFwIwNE",
    "outputId": "8e2386b2-2d97-46c2-f626-dbabbb0b8658"
   },
   "outputs": [
    {
     "data": {
      "text/plain": [
       "<Axes: ylabel='count'>"
      ]
     },
     "execution_count": 26,
     "metadata": {},
     "output_type": "execute_result"
    },
    {
     "data": {
      "image/png": "[encoded data removed]",
      "text/plain": [
       "<Figure size 640x480 with 1 Axes>"
      ]
     },
     "metadata": {},
     "output_type": "display_data"
    }
   ],
   "source": [
    "sns.countplot(df['has_ir_blaster'])"
   ]
  },
  {
   "cell_type": "code",
   "execution_count": 27,
   "metadata": {
    "id": "h9YQ8J_JI7A9"
   },
   "outputs": [],
   "source": [
    "df['processor_brand'] = df['processor_brand'].str.replace('sanpdragon','snapdragon')\n",
    "df['processor_brand'] = df['processor_brand'].str.replace('apple','bionic')\n",
    "df['processor_brand'] = df['processor_brand'].str.replace('samsung','exynos')"
   ]
  },
  {
   "cell_type": "code",
   "execution_count": 28,
   "metadata": {
    "id": "BwLAl6x-KCWO"
   },
   "outputs": [],
   "source": [
    "temp_df = df[df['processor_brand'] == 'qualcomm']"
   ]
  },
  {
   "cell_type": "code",
   "execution_count": 29,
   "metadata": {
    "id": "2KwROqXvKaGd"
   },
   "outputs": [],
   "source": [
    "df.loc[temp_df.index, 'processor_brand'] = 'snapdragon'"
   ]
  },
  {
   "cell_type": "code",
   "execution_count": 30,
   "metadata": {
    "id": "cVqLUWl3JAp4"
   },
   "outputs": [],
   "source": [
    "temp_df = df[df['processor_brand'] == 'a13']"
   ]
  },
  {
   "cell_type": "code",
   "execution_count": 31,
   "metadata": {
    "id": "uX_5mrQpJpYE"
   },
   "outputs": [],
   "source": [
    "df.loc[temp_df.index, 'processor_brand'] = 'bionic'"
   ]
  },
  {
   "cell_type": "code",
   "execution_count": 32,
   "metadata": {
    "colab": {
     "base_uri": "https://localhost:8080/"
    },
    "id": "AINgoBfUJ4jf",
    "outputId": "d536b0ac-46e9-43b0-97be-0241dbdf0c6d"
   },
   "outputs": [
    {
     "data": {
      "text/plain": [
       "snapdragon    413\n",
       "helio         201\n",
       "dimensity     177\n",
       "exynos         50\n",
       "bionic         45\n",
       "unisoc         26\n",
       "tiger          24\n",
       "google          9\n",
       "kirin           7\n",
       "spreadtrum      4\n",
       "sc9863a         2\n",
       "fusion          1\n",
       "mediatek        1\n",
       "Name: processor_brand, dtype: int64"
      ]
     },
     "execution_count": 32,
     "metadata": {},
     "output_type": "execute_result"
    }
   ],
   "source": [
    "df['processor_brand'].value_counts()"
   ]
  },
  {
   "cell_type": "code",
   "execution_count": 33,
   "metadata": {
    "colab": {
     "base_uri": "https://localhost:8080/",
     "height": 1000
    },
    "id": "PXTZyrWFLKGH",
    "outputId": "53dcb35c-9229-49e2-da15-b8bf19759058"
   },
   "outputs": [
    {
     "data": {
      "text/html": [
       "<div>\n",
       "<style scoped>\n",
       "    .dataframe tbody tr th:only-of-type {\n",
       "        vertical-align: middle;\n",
       "    }\n",
       "\n",
       "    .dataframe tbody tr th {\n",
       "        vertical-align: top;\n",
       "    }\n",
       "\n",
       "    .dataframe thead th {\n",
       "        text-align: right;\n",
       "    }\n",
       "</style>\n",
       "<table border=\"1\" class=\"dataframe\">\n",
       "  <thead>\n",
       "    <tr style=\"text-align: right;\">\n",
       "      <th></th>\n",
       "      <th>brand_name</th>\n",
       "      <th>model</th>\n",
       "      <th>price</th>\n",
       "      <th>rating</th>\n",
       "      <th>has_5g</th>\n",
       "      <th>has_nfc</th>\n",
       "      <th>has_ir_blaster</th>\n",
       "      <th>processor_name</th>\n",
       "      <th>processor_brand</th>\n",
       "      <th>num_cores</th>\n",
       "      <th>processor_speed</th>\n",
       "      <th>battery_capacity</th>\n",
       "      <th>fast_charging</th>\n",
       "      <th>ram_capacity</th>\n",
       "      <th>internal_memory</th>\n",
       "      <th>screen_size</th>\n",
       "      <th>refresh_rate</th>\n",
       "      <th>resolution</th>\n",
       "      <th>num_rear_cameras</th>\n",
       "      <th>num_front_cameras</th>\n",
       "      <th>os</th>\n",
       "      <th>primary_camera_rear</th>\n",
       "      <th>primary_camera_front</th>\n",
       "      <th>extended_memory</th>\n",
       "    </tr>\n",
       "  </thead>\n",
       "  <tbody>\n",
       "    <tr>\n",
       "      <th>118</th>\n",
       "      <td>tesla</td>\n",
       "      <td>Tesla Pi Phone</td>\n",
       "      <td>69999</td>\n",
       "      <td>83.0</td>\n",
       "      <td>True</td>\n",
       "      <td>True</td>\n",
       "      <td>False</td>\n",
       "      <td>NaN</td>\n",
       "      <td>NaN</td>\n",
       "      <td>Octa Core</td>\n",
       "      <td>NaN</td>\n",
       "      <td>5000.0</td>\n",
       "      <td>120</td>\n",
       "      <td>16.0</td>\n",
       "      <td>512.0</td>\n",
       "      <td>6.73</td>\n",
       "      <td>165</td>\n",
       "      <td>1080 x 2448</td>\n",
       "      <td>3</td>\n",
       "      <td>1</td>\n",
       "      <td>android</td>\n",
       "      <td>50.0</td>\n",
       "      <td>32</td>\n",
       "      <td>0</td>\n",
       "    </tr>\n",
       "    <tr>\n",
       "      <th>143</th>\n",
       "      <td>jio</td>\n",
       "      <td>Jio Phone 3</td>\n",
       "      <td>4499</td>\n",
       "      <td>NaN</td>\n",
       "      <td>False</td>\n",
       "      <td>False</td>\n",
       "      <td>False</td>\n",
       "      <td>NaN</td>\n",
       "      <td>NaN</td>\n",
       "      <td>Quad Core</td>\n",
       "      <td>1.4</td>\n",
       "      <td>2800.0</td>\n",
       "      <td>-1</td>\n",
       "      <td>2.0</td>\n",
       "      <td>64.0</td>\n",
       "      <td>5.00</td>\n",
       "      <td>60</td>\n",
       "      <td>720 x 1280</td>\n",
       "      <td>1</td>\n",
       "      <td>1</td>\n",
       "      <td>android</td>\n",
       "      <td>5.0</td>\n",
       "      <td>2</td>\n",
       "      <td>128 GB</td>\n",
       "    </tr>\n",
       "    <tr>\n",
       "      <th>187</th>\n",
       "      <td>ikall</td>\n",
       "      <td>iKall Z19 Pro</td>\n",
       "      <td>8099</td>\n",
       "      <td>60.0</td>\n",
       "      <td>False</td>\n",
       "      <td>False</td>\n",
       "      <td>False</td>\n",
       "      <td>NaN</td>\n",
       "      <td>NaN</td>\n",
       "      <td>Quad Core</td>\n",
       "      <td>1.6</td>\n",
       "      <td>5000.0</td>\n",
       "      <td>-1</td>\n",
       "      <td>4.0</td>\n",
       "      <td>64.0</td>\n",
       "      <td>6.50</td>\n",
       "      <td>60</td>\n",
       "      <td>720 x 1600</td>\n",
       "      <td>1</td>\n",
       "      <td>1</td>\n",
       "      <td>android</td>\n",
       "      <td>13.0</td>\n",
       "      <td>8</td>\n",
       "      <td>128 GB</td>\n",
       "    </tr>\n",
       "    <tr>\n",
       "      <th>200</th>\n",
       "      <td>samsung</td>\n",
       "      <td>Samsung Galaxy A13</td>\n",
       "      <td>14450</td>\n",
       "      <td>75.0</td>\n",
       "      <td>False</td>\n",
       "      <td>False</td>\n",
       "      <td>False</td>\n",
       "      <td>NaN</td>\n",
       "      <td>NaN</td>\n",
       "      <td>Octa Core</td>\n",
       "      <td>2.0</td>\n",
       "      <td>5000.0</td>\n",
       "      <td>25</td>\n",
       "      <td>4.0</td>\n",
       "      <td>64.0</td>\n",
       "      <td>6.60</td>\n",
       "      <td>60</td>\n",
       "      <td>1080 x 2408</td>\n",
       "      <td>4</td>\n",
       "      <td>1</td>\n",
       "      <td>android</td>\n",
       "      <td>50.0</td>\n",
       "      <td>8</td>\n",
       "      <td>1 TB</td>\n",
       "    </tr>\n",
       "    <tr>\n",
       "      <th>307</th>\n",
       "      <td>samsung</td>\n",
       "      <td>Samsung Galaxy A13 (4GB RAM + 128GB)</td>\n",
       "      <td>14999</td>\n",
       "      <td>75.0</td>\n",
       "      <td>False</td>\n",
       "      <td>False</td>\n",
       "      <td>False</td>\n",
       "      <td>NaN</td>\n",
       "      <td>NaN</td>\n",
       "      <td>Octa Core</td>\n",
       "      <td>2.0</td>\n",
       "      <td>5000.0</td>\n",
       "      <td>25</td>\n",
       "      <td>4.0</td>\n",
       "      <td>128.0</td>\n",
       "      <td>6.60</td>\n",
       "      <td>60</td>\n",
       "      <td>1080 x 2408</td>\n",
       "      <td>4</td>\n",
       "      <td>1</td>\n",
       "      <td>android</td>\n",
       "      <td>50.0</td>\n",
       "      <td>8</td>\n",
       "      <td>1 TB</td>\n",
       "    </tr>\n",
       "    <tr>\n",
       "      <th>313</th>\n",
       "      <td>itel</td>\n",
       "      <td>itel S16 Pro</td>\n",
       "      <td>6990</td>\n",
       "      <td>NaN</td>\n",
       "      <td>False</td>\n",
       "      <td>False</td>\n",
       "      <td>False</td>\n",
       "      <td>NaN</td>\n",
       "      <td>NaN</td>\n",
       "      <td>Quad Core</td>\n",
       "      <td>1.3</td>\n",
       "      <td>4000.0</td>\n",
       "      <td>-1</td>\n",
       "      <td>2.0</td>\n",
       "      <td>32.0</td>\n",
       "      <td>6.60</td>\n",
       "      <td>60</td>\n",
       "      <td>1600 x 720</td>\n",
       "      <td>3</td>\n",
       "      <td>1</td>\n",
       "      <td>android</td>\n",
       "      <td>8.0</td>\n",
       "      <td>8</td>\n",
       "      <td>32 GB</td>\n",
       "    </tr>\n",
       "    <tr>\n",
       "      <th>490</th>\n",
       "      <td>samsung</td>\n",
       "      <td>Samsung Galaxy A15</td>\n",
       "      <td>15990</td>\n",
       "      <td>63.0</td>\n",
       "      <td>False</td>\n",
       "      <td>False</td>\n",
       "      <td>False</td>\n",
       "      <td>NaN</td>\n",
       "      <td>NaN</td>\n",
       "      <td>Octa Core</td>\n",
       "      <td>NaN</td>\n",
       "      <td>5000.0</td>\n",
       "      <td>0</td>\n",
       "      <td>6.0</td>\n",
       "      <td>64.0</td>\n",
       "      <td>6.50</td>\n",
       "      <td>60</td>\n",
       "      <td>720 x 1600</td>\n",
       "      <td>3</td>\n",
       "      <td>1</td>\n",
       "      <td>android</td>\n",
       "      <td>48.0</td>\n",
       "      <td>8</td>\n",
       "      <td>1 TB</td>\n",
       "    </tr>\n",
       "    <tr>\n",
       "      <th>523</th>\n",
       "      <td>samsung</td>\n",
       "      <td>Samsung Galaxy F14</td>\n",
       "      <td>14990</td>\n",
       "      <td>67.0</td>\n",
       "      <td>False</td>\n",
       "      <td>True</td>\n",
       "      <td>False</td>\n",
       "      <td>NaN</td>\n",
       "      <td>NaN</td>\n",
       "      <td>Octa Core</td>\n",
       "      <td>NaN</td>\n",
       "      <td>5000.0</td>\n",
       "      <td>25</td>\n",
       "      <td>4.0</td>\n",
       "      <td>64.0</td>\n",
       "      <td>6.62</td>\n",
       "      <td>60</td>\n",
       "      <td>2408 x 1080</td>\n",
       "      <td>3</td>\n",
       "      <td>1</td>\n",
       "      <td>android</td>\n",
       "      <td>50.0</td>\n",
       "      <td>16</td>\n",
       "      <td>1 TB</td>\n",
       "    </tr>\n",
       "    <tr>\n",
       "      <th>575</th>\n",
       "      <td>samsung</td>\n",
       "      <td>Samsung Galaxy A13 (6GB RAM + 128GB)</td>\n",
       "      <td>16499</td>\n",
       "      <td>78.0</td>\n",
       "      <td>False</td>\n",
       "      <td>False</td>\n",
       "      <td>False</td>\n",
       "      <td>NaN</td>\n",
       "      <td>NaN</td>\n",
       "      <td>Octa Core</td>\n",
       "      <td>2.0</td>\n",
       "      <td>5000.0</td>\n",
       "      <td>25</td>\n",
       "      <td>6.0</td>\n",
       "      <td>128.0</td>\n",
       "      <td>6.60</td>\n",
       "      <td>60</td>\n",
       "      <td>1080 x 2408</td>\n",
       "      <td>4</td>\n",
       "      <td>1</td>\n",
       "      <td>android</td>\n",
       "      <td>50.0</td>\n",
       "      <td>8</td>\n",
       "      <td>1 TB</td>\n",
       "    </tr>\n",
       "    <tr>\n",
       "      <th>733</th>\n",
       "      <td>ikall</td>\n",
       "      <td>iKall Z19</td>\n",
       "      <td>7999</td>\n",
       "      <td>61.0</td>\n",
       "      <td>False</td>\n",
       "      <td>False</td>\n",
       "      <td>False</td>\n",
       "      <td>NaN</td>\n",
       "      <td>NaN</td>\n",
       "      <td>Quad Core</td>\n",
       "      <td>1.6</td>\n",
       "      <td>5000.0</td>\n",
       "      <td>-1</td>\n",
       "      <td>4.0</td>\n",
       "      <td>32.0</td>\n",
       "      <td>6.50</td>\n",
       "      <td>60</td>\n",
       "      <td>720 x 1600</td>\n",
       "      <td>1</td>\n",
       "      <td>1</td>\n",
       "      <td>android</td>\n",
       "      <td>20.0</td>\n",
       "      <td>13</td>\n",
       "      <td>128 GB</td>\n",
       "    </tr>\n",
       "    <tr>\n",
       "      <th>753</th>\n",
       "      <td>tecno</td>\n",
       "      <td>Tecno Spark Go 2022</td>\n",
       "      <td>6249</td>\n",
       "      <td>61.0</td>\n",
       "      <td>False</td>\n",
       "      <td>False</td>\n",
       "      <td>False</td>\n",
       "      <td>NaN</td>\n",
       "      <td>NaN</td>\n",
       "      <td>Octa Core</td>\n",
       "      <td>2.2</td>\n",
       "      <td>5000.0</td>\n",
       "      <td>-1</td>\n",
       "      <td>2.0</td>\n",
       "      <td>32.0</td>\n",
       "      <td>6.51</td>\n",
       "      <td>60</td>\n",
       "      <td>720 x 1600</td>\n",
       "      <td>2</td>\n",
       "      <td>1</td>\n",
       "      <td>android</td>\n",
       "      <td>13.0</td>\n",
       "      <td>8</td>\n",
       "      <td>256 GB</td>\n",
       "    </tr>\n",
       "    <tr>\n",
       "      <th>769</th>\n",
       "      <td>itel</td>\n",
       "      <td>itel A56</td>\n",
       "      <td>5490</td>\n",
       "      <td>NaN</td>\n",
       "      <td>False</td>\n",
       "      <td>False</td>\n",
       "      <td>False</td>\n",
       "      <td>NaN</td>\n",
       "      <td>NaN</td>\n",
       "      <td>Quad Core</td>\n",
       "      <td>1.3</td>\n",
       "      <td>4000.0</td>\n",
       "      <td>-1</td>\n",
       "      <td>1.0</td>\n",
       "      <td>16.0</td>\n",
       "      <td>6.00</td>\n",
       "      <td>60</td>\n",
       "      <td>720 x 1600</td>\n",
       "      <td>2</td>\n",
       "      <td>1</td>\n",
       "      <td>android</td>\n",
       "      <td>8.0</td>\n",
       "      <td>5</td>\n",
       "      <td>32 GB</td>\n",
       "    </tr>\n",
       "    <tr>\n",
       "      <th>799</th>\n",
       "      <td>samsung</td>\n",
       "      <td>Samsung Galaxy S23 FE 5G</td>\n",
       "      <td>54999</td>\n",
       "      <td>77.0</td>\n",
       "      <td>True</td>\n",
       "      <td>True</td>\n",
       "      <td>False</td>\n",
       "      <td>NaN</td>\n",
       "      <td>NaN</td>\n",
       "      <td>Octa Core</td>\n",
       "      <td>NaN</td>\n",
       "      <td>4500.0</td>\n",
       "      <td>0</td>\n",
       "      <td>8.0</td>\n",
       "      <td>128.0</td>\n",
       "      <td>6.50</td>\n",
       "      <td>60</td>\n",
       "      <td>1080 x 2400</td>\n",
       "      <td>4</td>\n",
       "      <td>1</td>\n",
       "      <td>android</td>\n",
       "      <td>64.0</td>\n",
       "      <td>32</td>\n",
       "      <td>0</td>\n",
       "    </tr>\n",
       "    <tr>\n",
       "      <th>800</th>\n",
       "      <td>samsung</td>\n",
       "      <td>Samsung Galaxy M51s 5G</td>\n",
       "      <td>24990</td>\n",
       "      <td>72.0</td>\n",
       "      <td>True</td>\n",
       "      <td>False</td>\n",
       "      <td>False</td>\n",
       "      <td>NaN</td>\n",
       "      <td>NaN</td>\n",
       "      <td>Octa Core</td>\n",
       "      <td>NaN</td>\n",
       "      <td>6000.0</td>\n",
       "      <td>0</td>\n",
       "      <td>6.0</td>\n",
       "      <td>128.0</td>\n",
       "      <td>6.70</td>\n",
       "      <td>60</td>\n",
       "      <td>1080 x 2400</td>\n",
       "      <td>3</td>\n",
       "      <td>1</td>\n",
       "      <td>android</td>\n",
       "      <td>64.0</td>\n",
       "      <td>32</td>\n",
       "      <td>1 TB</td>\n",
       "    </tr>\n",
       "    <tr>\n",
       "      <th>844</th>\n",
       "      <td>huawei</td>\n",
       "      <td>Huawei Nova Y61</td>\n",
       "      <td>21990</td>\n",
       "      <td>63.0</td>\n",
       "      <td>False</td>\n",
       "      <td>False</td>\n",
       "      <td>False</td>\n",
       "      <td>NaN</td>\n",
       "      <td>NaN</td>\n",
       "      <td>Octa Core</td>\n",
       "      <td>NaN</td>\n",
       "      <td>5000.0</td>\n",
       "      <td>22</td>\n",
       "      <td>4.0</td>\n",
       "      <td>64.0</td>\n",
       "      <td>6.52</td>\n",
       "      <td>60</td>\n",
       "      <td>720 x 1600</td>\n",
       "      <td>3</td>\n",
       "      <td>1</td>\n",
       "      <td>EMUI v12</td>\n",
       "      <td>50.0</td>\n",
       "      <td>5</td>\n",
       "      <td>Memory Card (Hybrid)</td>\n",
       "    </tr>\n",
       "    <tr>\n",
       "      <th>910</th>\n",
       "      <td>samsung</td>\n",
       "      <td>Samsung Galaxy M35</td>\n",
       "      <td>22999</td>\n",
       "      <td>74.0</td>\n",
       "      <td>False</td>\n",
       "      <td>True</td>\n",
       "      <td>False</td>\n",
       "      <td>NaN</td>\n",
       "      <td>NaN</td>\n",
       "      <td>Octa Core</td>\n",
       "      <td>NaN</td>\n",
       "      <td>6000.0</td>\n",
       "      <td>0</td>\n",
       "      <td>8.0</td>\n",
       "      <td>128.0</td>\n",
       "      <td>6.50</td>\n",
       "      <td>60</td>\n",
       "      <td>1080 x 2400</td>\n",
       "      <td>3</td>\n",
       "      <td>1</td>\n",
       "      <td>android</td>\n",
       "      <td>64.0</td>\n",
       "      <td>32</td>\n",
       "      <td>1 TB</td>\n",
       "    </tr>\n",
       "    <tr>\n",
       "      <th>911</th>\n",
       "      <td>samsung</td>\n",
       "      <td>Samsung Galaxy A05</td>\n",
       "      <td>12990</td>\n",
       "      <td>63.0</td>\n",
       "      <td>False</td>\n",
       "      <td>False</td>\n",
       "      <td>False</td>\n",
       "      <td>NaN</td>\n",
       "      <td>NaN</td>\n",
       "      <td>Octa Core</td>\n",
       "      <td>NaN</td>\n",
       "      <td>5000.0</td>\n",
       "      <td>18</td>\n",
       "      <td>4.0</td>\n",
       "      <td>64.0</td>\n",
       "      <td>6.50</td>\n",
       "      <td>60</td>\n",
       "      <td>720 x 1560</td>\n",
       "      <td>2</td>\n",
       "      <td>1</td>\n",
       "      <td>android</td>\n",
       "      <td>48.0</td>\n",
       "      <td>5</td>\n",
       "      <td>1 TB</td>\n",
       "    </tr>\n",
       "    <tr>\n",
       "      <th>952</th>\n",
       "      <td>samsung</td>\n",
       "      <td>Samsung Galaxy A11</td>\n",
       "      <td>9990</td>\n",
       "      <td>63.0</td>\n",
       "      <td>False</td>\n",
       "      <td>False</td>\n",
       "      <td>False</td>\n",
       "      <td>NaN</td>\n",
       "      <td>NaN</td>\n",
       "      <td>Octa Core</td>\n",
       "      <td>1.8</td>\n",
       "      <td>4000.0</td>\n",
       "      <td>15</td>\n",
       "      <td>2.0</td>\n",
       "      <td>32.0</td>\n",
       "      <td>6.40</td>\n",
       "      <td>60</td>\n",
       "      <td>720 x 1560</td>\n",
       "      <td>3</td>\n",
       "      <td>1</td>\n",
       "      <td>android</td>\n",
       "      <td>13.0</td>\n",
       "      <td>8</td>\n",
       "      <td>512 GB</td>\n",
       "    </tr>\n",
       "    <tr>\n",
       "      <th>965</th>\n",
       "      <td>ikall</td>\n",
       "      <td>iKall Z18</td>\n",
       "      <td>6799</td>\n",
       "      <td>61.0</td>\n",
       "      <td>False</td>\n",
       "      <td>False</td>\n",
       "      <td>False</td>\n",
       "      <td>NaN</td>\n",
       "      <td>NaN</td>\n",
       "      <td>Quad Core</td>\n",
       "      <td>1.3</td>\n",
       "      <td>5000.0</td>\n",
       "      <td>-1</td>\n",
       "      <td>4.0</td>\n",
       "      <td>64.0</td>\n",
       "      <td>6.82</td>\n",
       "      <td>60</td>\n",
       "      <td>720 x 1560</td>\n",
       "      <td>1</td>\n",
       "      <td>1</td>\n",
       "      <td>android</td>\n",
       "      <td>20.0</td>\n",
       "      <td>13</td>\n",
       "      <td>64 GB</td>\n",
       "    </tr>\n",
       "    <tr>\n",
       "      <th>979</th>\n",
       "      <td>samsung</td>\n",
       "      <td>Samsung Galaxy M52s 5G</td>\n",
       "      <td>24990</td>\n",
       "      <td>74.0</td>\n",
       "      <td>True</td>\n",
       "      <td>False</td>\n",
       "      <td>False</td>\n",
       "      <td>NaN</td>\n",
       "      <td>NaN</td>\n",
       "      <td>Octa Core</td>\n",
       "      <td>NaN</td>\n",
       "      <td>5000.0</td>\n",
       "      <td>0</td>\n",
       "      <td>8.0</td>\n",
       "      <td>128.0</td>\n",
       "      <td>6.50</td>\n",
       "      <td>60</td>\n",
       "      <td>1080 x 2400</td>\n",
       "      <td>3</td>\n",
       "      <td>1</td>\n",
       "      <td>android</td>\n",
       "      <td>64.0</td>\n",
       "      <td>32</td>\n",
       "      <td>1 TB</td>\n",
       "    </tr>\n",
       "  </tbody>\n",
       "</table>\n",
       "</div>"
      ],
      "text/plain": [
       "    brand_name                                 model  price  rating  has_5g  \\\n",
       "118      tesla                        Tesla Pi Phone  69999    83.0    True   \n",
       "143        jio                           Jio Phone 3   4499     NaN   False   \n",
       "187      ikall                         iKall Z19 Pro   8099    60.0   False   \n",
       "200    samsung                    Samsung Galaxy A13  14450    75.0   False   \n",
       "307    samsung  Samsung Galaxy A13 (4GB RAM + 128GB)  14999    75.0   False   \n",
       "313       itel                          itel S16 Pro   6990     NaN   False   \n",
       "490    samsung                    Samsung Galaxy A15  15990    63.0   False   \n",
       "523    samsung                    Samsung Galaxy F14  14990    67.0   False   \n",
       "575    samsung  Samsung Galaxy A13 (6GB RAM + 128GB)  16499    78.0   False   \n",
       "733      ikall                             iKall Z19   7999    61.0   False   \n",
       "753      tecno                   Tecno Spark Go 2022   6249    61.0   False   \n",
       "769       itel                              itel A56   5490     NaN   False   \n",
       "799    samsung              Samsung Galaxy S23 FE 5G  54999    77.0    True   \n",
       "800    samsung                Samsung Galaxy M51s 5G  24990    72.0    True   \n",
       "844     huawei                       Huawei Nova Y61  21990    63.0   False   \n",
       "910    samsung                    Samsung Galaxy M35  22999    74.0   False   \n",
       "911    samsung                    Samsung Galaxy A05  12990    63.0   False   \n",
       "952    samsung                    Samsung Galaxy A11   9990    63.0   False   \n",
       "965      ikall                             iKall Z18   6799    61.0   False   \n",
       "979    samsung                Samsung Galaxy M52s 5G  24990    74.0    True   \n",
       "\n",
       "     has_nfc  has_ir_blaster processor_name processor_brand  num_cores  \\\n",
       "118     True           False            NaN             NaN  Octa Core   \n",
       "143    False           False            NaN             NaN  Quad Core   \n",
       "187    False           False            NaN             NaN  Quad Core   \n",
       "200    False           False            NaN             NaN  Octa Core   \n",
       "307    False           False            NaN             NaN  Octa Core   \n",
       "313    False           False            NaN             NaN  Quad Core   \n",
       "490    False           False            NaN             NaN  Octa Core   \n",
       "523     True           False            NaN             NaN  Octa Core   \n",
       "575    False           False            NaN             NaN  Octa Core   \n",
       "733    False           False            NaN             NaN  Quad Core   \n",
       "753    False           False            NaN             NaN  Octa Core   \n",
       "769    False           False            NaN             NaN  Quad Core   \n",
       "799     True           False            NaN             NaN  Octa Core   \n",
       "800    False           False            NaN             NaN  Octa Core   \n",
       "844    False           False            NaN             NaN  Octa Core   \n",
       "910     True           False            NaN             NaN  Octa Core   \n",
       "911    False           False            NaN             NaN  Octa Core   \n",
       "952    False           False            NaN             NaN  Octa Core   \n",
       "965    False           False            NaN             NaN  Quad Core   \n",
       "979    False           False            NaN             NaN  Octa Core   \n",
       "\n",
       "     processor_speed  battery_capacity  fast_charging  ram_capacity  \\\n",
       "118              NaN            5000.0            120          16.0   \n",
       "143              1.4            2800.0             -1           2.0   \n",
       "187              1.6            5000.0             -1           4.0   \n",
       "200              2.0            5000.0             25           4.0   \n",
       "307              2.0            5000.0             25           4.0   \n",
       "313              1.3            4000.0             -1           2.0   \n",
       "490              NaN            5000.0              0           6.0   \n",
       "523              NaN            5000.0             25           4.0   \n",
       "575              2.0            5000.0             25           6.0   \n",
       "733              1.6            5000.0             -1           4.0   \n",
       "753              2.2            5000.0             -1           2.0   \n",
       "769              1.3            4000.0             -1           1.0   \n",
       "799              NaN            4500.0              0           8.0   \n",
       "800              NaN            6000.0              0           6.0   \n",
       "844              NaN            5000.0             22           4.0   \n",
       "910              NaN            6000.0              0           8.0   \n",
       "911              NaN            5000.0             18           4.0   \n",
       "952              1.8            4000.0             15           2.0   \n",
       "965              1.3            5000.0             -1           4.0   \n",
       "979              NaN            5000.0              0           8.0   \n",
       "\n",
       "     internal_memory  screen_size  refresh_rate    resolution  \\\n",
       "118            512.0         6.73           165  1080 x 2448    \n",
       "143             64.0         5.00            60   720 x 1280    \n",
       "187             64.0         6.50            60   720 x 1600    \n",
       "200             64.0         6.60            60  1080 x 2408    \n",
       "307            128.0         6.60            60  1080 x 2408    \n",
       "313             32.0         6.60            60   1600 x 720    \n",
       "490             64.0         6.50            60   720 x 1600    \n",
       "523             64.0         6.62            60  2408 x 1080    \n",
       "575            128.0         6.60            60  1080 x 2408    \n",
       "733             32.0         6.50            60   720 x 1600    \n",
       "753             32.0         6.51            60   720 x 1600    \n",
       "769             16.0         6.00            60   720 x 1600    \n",
       "799            128.0         6.50            60  1080 x 2400    \n",
       "800            128.0         6.70            60  1080 x 2400    \n",
       "844             64.0         6.52            60   720 x 1600    \n",
       "910            128.0         6.50            60  1080 x 2400    \n",
       "911             64.0         6.50            60   720 x 1560    \n",
       "952             32.0         6.40            60   720 x 1560    \n",
       "965             64.0         6.82            60   720 x 1560    \n",
       "979            128.0         6.50            60  1080 x 2400    \n",
       "\n",
       "     num_rear_cameras num_front_cameras        os  primary_camera_rear  \\\n",
       "118                 3                 1   android                 50.0   \n",
       "143                 1                 1   android                  5.0   \n",
       "187                 1                 1   android                 13.0   \n",
       "200                 4                 1   android                 50.0   \n",
       "307                 4                 1   android                 50.0   \n",
       "313                 3                 1   android                  8.0   \n",
       "490                 3                 1   android                 48.0   \n",
       "523                 3                 1   android                 50.0   \n",
       "575                 4                 1   android                 50.0   \n",
       "733                 1                 1   android                 20.0   \n",
       "753                 2                 1   android                 13.0   \n",
       "769                 2                 1   android                  8.0   \n",
       "799                 4                 1   android                 64.0   \n",
       "800                 3                 1   android                 64.0   \n",
       "844                 3                 1  EMUI v12                 50.0   \n",
       "910                 3                 1   android                 64.0   \n",
       "911                 2                 1   android                 48.0   \n",
       "952                 3                 1   android                 13.0   \n",
       "965                 1                 1   android                 20.0   \n",
       "979                 3                 1   android                 64.0   \n",
       "\n",
       "    primary_camera_front       extended_memory  \n",
       "118                   32                     0  \n",
       "143                    2                128 GB  \n",
       "187                    8                128 GB  \n",
       "200                    8                  1 TB  \n",
       "307                    8                  1 TB  \n",
       "313                    8                 32 GB  \n",
       "490                    8                  1 TB  \n",
       "523                   16                  1 TB  \n",
       "575                    8                  1 TB  \n",
       "733                   13                128 GB  \n",
       "753                    8                256 GB  \n",
       "769                    5                 32 GB  \n",
       "799                   32                     0  \n",
       "800                   32                  1 TB  \n",
       "844                    5  Memory Card (Hybrid)  \n",
       "910                   32                  1 TB  \n",
       "911                    5                  1 TB  \n",
       "952                    8                512 GB  \n",
       "965                   13                 64 GB  \n",
       "979                   32                  1 TB  "
      ]
     },
     "execution_count": 33,
     "metadata": {},
     "output_type": "execute_result"
    }
   ],
   "source": [
    "df[df['processor_brand'].isnull()]"
   ]
  },
  {
   "cell_type": "code",
   "execution_count": 34,
   "metadata": {
    "colab": {
     "base_uri": "https://localhost:8080/"
    },
    "id": "2E40BuqFLWtH",
    "outputId": "103eafd4-6610-46b5-fd42-bd02faa8baec"
   },
   "outputs": [
    {
     "data": {
      "text/plain": [
       "Octa Core    899\n",
       "Hexa Core     39\n",
       "Quad Core     36\n",
       "Name: num_cores, dtype: int64"
      ]
     },
     "execution_count": 34,
     "metadata": {},
     "output_type": "execute_result"
    }
   ],
   "source": [
    "df['num_cores'].value_counts()"
   ]
  },
  {
   "cell_type": "code",
   "execution_count": 35,
   "metadata": {
    "colab": {
     "base_uri": "https://localhost:8080/"
    },
    "id": "_X9bIJoyLmmW",
    "outputId": "233a764f-b1da-4a9e-f0b1-8595b54d11f4"
   },
   "outputs": [
    {
     "data": {
      "text/plain": [
       "count    938.000000\n",
       "mean       2.427217\n",
       "std        0.464090\n",
       "min        1.200000\n",
       "25%        2.050000\n",
       "50%        2.300000\n",
       "75%        2.840000\n",
       "max        3.220000\n",
       "Name: processor_speed, dtype: float64"
      ]
     },
     "execution_count": 35,
     "metadata": {},
     "output_type": "execute_result"
    }
   ],
   "source": [
    "df['processor_speed'].describe()"
   ]
  },
  {
   "cell_type": "code",
   "execution_count": 36,
   "metadata": {
    "colab": {
     "base_uri": "https://localhost:8080/",
     "height": 386
    },
    "id": "gd81YWjDLtQN",
    "outputId": "83a2938a-72f1-45db-83d0-90143c15db56"
   },
   "outputs": [
    {
     "data": {
      "text/plain": [
       "<seaborn.axisgrid.FacetGrid at 0x242ab287890>"
      ]
     },
     "execution_count": 36,
     "metadata": {},
     "output_type": "execute_result"
    },
    {
     "data": {
      "image/png": "[encoded data removed]",
      "text/plain": [
       "<Figure size 500x500 with 1 Axes>"
      ]
     },
     "metadata": {},
     "output_type": "display_data"
    }
   ],
   "source": [
    "sns.displot(kind='kde',data=df,x='processor_speed')"
   ]
  },
  {
   "cell_type": "code",
   "execution_count": 37,
   "metadata": {
    "colab": {
     "base_uri": "https://localhost:8080/"
    },
    "id": "H2jmYzOWL2uN",
    "outputId": "2174ccd2-ae3c-4fc2-a39a-6a5bd86369cc"
   },
   "outputs": [
    {
     "data": {
      "text/plain": [
       "0.18833557463624606"
      ]
     },
     "execution_count": 37,
     "metadata": {},
     "output_type": "execute_result"
    }
   ],
   "source": [
    "df['processor_speed'].skew()"
   ]
  },
  {
   "cell_type": "code",
   "execution_count": 38,
   "metadata": {
    "colab": {
     "base_uri": "https://localhost:8080/",
     "height": 352
    },
    "id": "F6iG7TscL7DE",
    "outputId": "feb0397e-42f7-4584-f316-7c728ac940fc"
   },
   "outputs": [
    {
     "data": {
      "text/plain": [
       "<Axes: ylabel='processor_speed'>"
      ]
     },
     "execution_count": 38,
     "metadata": {},
     "output_type": "execute_result"
    },
    {
     "data": {
      "image/png": "[encoded data removed]",
      "text/plain": [
       "<Figure size 640x480 with 1 Axes>"
      ]
     },
     "metadata": {},
     "output_type": "display_data"
    }
   ],
   "source": [
    "sns.boxplot(df['processor_speed'])"
   ]
  },
  {
   "cell_type": "code",
   "execution_count": 39,
   "metadata": {
    "colab": {
     "base_uri": "https://localhost:8080/",
     "height": 852
    },
    "id": "2JothE2wL-67",
    "outputId": "24fcf1bc-755a-4e25-8d1c-3679504f9e9e"
   },
   "outputs": [
    {
     "data": {
      "text/html": [
       "<div>\n",
       "<style scoped>\n",
       "    .dataframe tbody tr th:only-of-type {\n",
       "        vertical-align: middle;\n",
       "    }\n",
       "\n",
       "    .dataframe tbody tr th {\n",
       "        vertical-align: top;\n",
       "    }\n",
       "\n",
       "    .dataframe thead th {\n",
       "        text-align: right;\n",
       "    }\n",
       "</style>\n",
       "<table border=\"1\" class=\"dataframe\">\n",
       "  <thead>\n",
       "    <tr style=\"text-align: right;\">\n",
       "      <th></th>\n",
       "      <th>brand_name</th>\n",
       "      <th>model</th>\n",
       "      <th>price</th>\n",
       "      <th>rating</th>\n",
       "      <th>has_5g</th>\n",
       "      <th>has_nfc</th>\n",
       "      <th>has_ir_blaster</th>\n",
       "      <th>processor_name</th>\n",
       "      <th>processor_brand</th>\n",
       "      <th>num_cores</th>\n",
       "      <th>processor_speed</th>\n",
       "      <th>battery_capacity</th>\n",
       "      <th>fast_charging</th>\n",
       "      <th>ram_capacity</th>\n",
       "      <th>internal_memory</th>\n",
       "      <th>screen_size</th>\n",
       "      <th>refresh_rate</th>\n",
       "      <th>resolution</th>\n",
       "      <th>num_rear_cameras</th>\n",
       "      <th>num_front_cameras</th>\n",
       "      <th>os</th>\n",
       "      <th>primary_camera_rear</th>\n",
       "      <th>primary_camera_front</th>\n",
       "      <th>extended_memory</th>\n",
       "    </tr>\n",
       "  </thead>\n",
       "  <tbody>\n",
       "    <tr>\n",
       "      <th>0</th>\n",
       "      <td>oneplus</td>\n",
       "      <td>OnePlus 11 5G</td>\n",
       "      <td>54999</td>\n",
       "      <td>89.0</td>\n",
       "      <td>True</td>\n",
       "      <td>True</td>\n",
       "      <td>False</td>\n",
       "      <td>Snapdragon 8 Gen2</td>\n",
       "      <td>snapdragon</td>\n",
       "      <td>Octa Core</td>\n",
       "      <td>3.20</td>\n",
       "      <td>5000.0</td>\n",
       "      <td>100</td>\n",
       "      <td>12.0</td>\n",
       "      <td>256.0</td>\n",
       "      <td>6.70</td>\n",
       "      <td>120</td>\n",
       "      <td>1440 x 3216</td>\n",
       "      <td>3</td>\n",
       "      <td>1</td>\n",
       "      <td>android</td>\n",
       "      <td>50.0</td>\n",
       "      <td>16</td>\n",
       "      <td>0</td>\n",
       "    </tr>\n",
       "    <tr>\n",
       "      <th>1</th>\n",
       "      <td>oneplus</td>\n",
       "      <td>OnePlus Nord CE 2 Lite 5G</td>\n",
       "      <td>19989</td>\n",
       "      <td>81.0</td>\n",
       "      <td>True</td>\n",
       "      <td>False</td>\n",
       "      <td>False</td>\n",
       "      <td>Snapdragon 695</td>\n",
       "      <td>snapdragon</td>\n",
       "      <td>Octa Core</td>\n",
       "      <td>2.20</td>\n",
       "      <td>5000.0</td>\n",
       "      <td>33</td>\n",
       "      <td>6.0</td>\n",
       "      <td>128.0</td>\n",
       "      <td>6.59</td>\n",
       "      <td>120</td>\n",
       "      <td>1080 x 2412</td>\n",
       "      <td>3</td>\n",
       "      <td>1</td>\n",
       "      <td>android</td>\n",
       "      <td>64.0</td>\n",
       "      <td>16</td>\n",
       "      <td>1 TB</td>\n",
       "    </tr>\n",
       "    <tr>\n",
       "      <th>2</th>\n",
       "      <td>samsung</td>\n",
       "      <td>Samsung Galaxy A14 5G</td>\n",
       "      <td>16499</td>\n",
       "      <td>75.0</td>\n",
       "      <td>True</td>\n",
       "      <td>False</td>\n",
       "      <td>False</td>\n",
       "      <td>Exynos 1330</td>\n",
       "      <td>exynos</td>\n",
       "      <td>Octa Core</td>\n",
       "      <td>2.40</td>\n",
       "      <td>5000.0</td>\n",
       "      <td>15</td>\n",
       "      <td>4.0</td>\n",
       "      <td>64.0</td>\n",
       "      <td>6.60</td>\n",
       "      <td>90</td>\n",
       "      <td>1080 x 2408</td>\n",
       "      <td>3</td>\n",
       "      <td>1</td>\n",
       "      <td>android</td>\n",
       "      <td>50.0</td>\n",
       "      <td>13</td>\n",
       "      <td>1 TB</td>\n",
       "    </tr>\n",
       "    <tr>\n",
       "      <th>3</th>\n",
       "      <td>motorola</td>\n",
       "      <td>Motorola Moto G62 5G</td>\n",
       "      <td>14999</td>\n",
       "      <td>81.0</td>\n",
       "      <td>True</td>\n",
       "      <td>False</td>\n",
       "      <td>False</td>\n",
       "      <td>Snapdragon  695</td>\n",
       "      <td>snapdragon</td>\n",
       "      <td>Octa Core</td>\n",
       "      <td>2.20</td>\n",
       "      <td>5000.0</td>\n",
       "      <td>0</td>\n",
       "      <td>6.0</td>\n",
       "      <td>128.0</td>\n",
       "      <td>6.55</td>\n",
       "      <td>120</td>\n",
       "      <td>1080 x 2400</td>\n",
       "      <td>3</td>\n",
       "      <td>1</td>\n",
       "      <td>android</td>\n",
       "      <td>50.0</td>\n",
       "      <td>16</td>\n",
       "      <td>1 TB</td>\n",
       "    </tr>\n",
       "    <tr>\n",
       "      <th>4</th>\n",
       "      <td>realme</td>\n",
       "      <td>Realme 10 Pro Plus</td>\n",
       "      <td>24999</td>\n",
       "      <td>82.0</td>\n",
       "      <td>True</td>\n",
       "      <td>False</td>\n",
       "      <td>False</td>\n",
       "      <td>Dimensity 1080</td>\n",
       "      <td>dimensity</td>\n",
       "      <td>Octa Core</td>\n",
       "      <td>2.60</td>\n",
       "      <td>5000.0</td>\n",
       "      <td>67</td>\n",
       "      <td>6.0</td>\n",
       "      <td>128.0</td>\n",
       "      <td>6.70</td>\n",
       "      <td>120</td>\n",
       "      <td>1080 x 2412</td>\n",
       "      <td>3</td>\n",
       "      <td>1</td>\n",
       "      <td>android</td>\n",
       "      <td>108.0</td>\n",
       "      <td>16</td>\n",
       "      <td>0</td>\n",
       "    </tr>\n",
       "    <tr>\n",
       "      <th>...</th>\n",
       "      <td>...</td>\n",
       "      <td>...</td>\n",
       "      <td>...</td>\n",
       "      <td>...</td>\n",
       "      <td>...</td>\n",
       "      <td>...</td>\n",
       "      <td>...</td>\n",
       "      <td>...</td>\n",
       "      <td>...</td>\n",
       "      <td>...</td>\n",
       "      <td>...</td>\n",
       "      <td>...</td>\n",
       "      <td>...</td>\n",
       "      <td>...</td>\n",
       "      <td>...</td>\n",
       "      <td>...</td>\n",
       "      <td>...</td>\n",
       "      <td>...</td>\n",
       "      <td>...</td>\n",
       "      <td>...</td>\n",
       "      <td>...</td>\n",
       "      <td>...</td>\n",
       "      <td>...</td>\n",
       "      <td>...</td>\n",
       "    </tr>\n",
       "    <tr>\n",
       "      <th>975</th>\n",
       "      <td>motorola</td>\n",
       "      <td>Motorola Moto Edge S30 Pro</td>\n",
       "      <td>34990</td>\n",
       "      <td>83.0</td>\n",
       "      <td>True</td>\n",
       "      <td>False</td>\n",
       "      <td>False</td>\n",
       "      <td>Snapdragon 8 Gen1</td>\n",
       "      <td>snapdragon</td>\n",
       "      <td>Octa Core</td>\n",
       "      <td>3.00</td>\n",
       "      <td>5000.0</td>\n",
       "      <td>68</td>\n",
       "      <td>8.0</td>\n",
       "      <td>128.0</td>\n",
       "      <td>6.67</td>\n",
       "      <td>120</td>\n",
       "      <td>1080 x 2460</td>\n",
       "      <td>3</td>\n",
       "      <td>1</td>\n",
       "      <td>android</td>\n",
       "      <td>64.0</td>\n",
       "      <td>16</td>\n",
       "      <td>0</td>\n",
       "    </tr>\n",
       "    <tr>\n",
       "      <th>976</th>\n",
       "      <td>honor</td>\n",
       "      <td>Honor X8 5G</td>\n",
       "      <td>14990</td>\n",
       "      <td>75.0</td>\n",
       "      <td>True</td>\n",
       "      <td>False</td>\n",
       "      <td>False</td>\n",
       "      <td>Snapdragon  480+</td>\n",
       "      <td>snapdragon</td>\n",
       "      <td>Octa Core</td>\n",
       "      <td>2.20</td>\n",
       "      <td>5000.0</td>\n",
       "      <td>22</td>\n",
       "      <td>6.0</td>\n",
       "      <td>128.0</td>\n",
       "      <td>6.50</td>\n",
       "      <td>60</td>\n",
       "      <td>720 x 1600</td>\n",
       "      <td>3</td>\n",
       "      <td>1</td>\n",
       "      <td>android</td>\n",
       "      <td>48.0</td>\n",
       "      <td>8</td>\n",
       "      <td>1 TB</td>\n",
       "    </tr>\n",
       "    <tr>\n",
       "      <th>977</th>\n",
       "      <td>poco</td>\n",
       "      <td>POCO X4 GT 5G (8GB RAM + 256GB)</td>\n",
       "      <td>28990</td>\n",
       "      <td>85.0</td>\n",
       "      <td>True</td>\n",
       "      <td>True</td>\n",
       "      <td>True</td>\n",
       "      <td>Dimensity 8100</td>\n",
       "      <td>dimensity</td>\n",
       "      <td>Octa Core</td>\n",
       "      <td>2.85</td>\n",
       "      <td>5080.0</td>\n",
       "      <td>67</td>\n",
       "      <td>8.0</td>\n",
       "      <td>256.0</td>\n",
       "      <td>6.60</td>\n",
       "      <td>144</td>\n",
       "      <td>1080 x 2460</td>\n",
       "      <td>3</td>\n",
       "      <td>1</td>\n",
       "      <td>android</td>\n",
       "      <td>64.0</td>\n",
       "      <td>16</td>\n",
       "      <td>0</td>\n",
       "    </tr>\n",
       "    <tr>\n",
       "      <th>978</th>\n",
       "      <td>motorola</td>\n",
       "      <td>Motorola Moto G91 5G</td>\n",
       "      <td>19990</td>\n",
       "      <td>80.0</td>\n",
       "      <td>True</td>\n",
       "      <td>True</td>\n",
       "      <td>False</td>\n",
       "      <td>Snapdragon 695</td>\n",
       "      <td>snapdragon</td>\n",
       "      <td>Octa Core</td>\n",
       "      <td>2.20</td>\n",
       "      <td>5000.0</td>\n",
       "      <td>0</td>\n",
       "      <td>6.0</td>\n",
       "      <td>128.0</td>\n",
       "      <td>6.80</td>\n",
       "      <td>60</td>\n",
       "      <td>1080 x 2400</td>\n",
       "      <td>3</td>\n",
       "      <td>1</td>\n",
       "      <td>android</td>\n",
       "      <td>108.0</td>\n",
       "      <td>32</td>\n",
       "      <td>1 TB</td>\n",
       "    </tr>\n",
       "    <tr>\n",
       "      <th>979</th>\n",
       "      <td>samsung</td>\n",
       "      <td>Samsung Galaxy M52s 5G</td>\n",
       "      <td>24990</td>\n",
       "      <td>74.0</td>\n",
       "      <td>True</td>\n",
       "      <td>False</td>\n",
       "      <td>False</td>\n",
       "      <td>NaN</td>\n",
       "      <td>NaN</td>\n",
       "      <td>Octa Core</td>\n",
       "      <td>NaN</td>\n",
       "      <td>5000.0</td>\n",
       "      <td>0</td>\n",
       "      <td>8.0</td>\n",
       "      <td>128.0</td>\n",
       "      <td>6.50</td>\n",
       "      <td>60</td>\n",
       "      <td>1080 x 2400</td>\n",
       "      <td>3</td>\n",
       "      <td>1</td>\n",
       "      <td>android</td>\n",
       "      <td>64.0</td>\n",
       "      <td>32</td>\n",
       "      <td>1 TB</td>\n",
       "    </tr>\n",
       "  </tbody>\n",
       "</table>\n",
       "<p>980 rows × 24 columns</p>\n",
       "</div>"
      ],
      "text/plain": [
       "    brand_name                            model  price  rating  has_5g  \\\n",
       "0      oneplus                    OnePlus 11 5G  54999    89.0    True   \n",
       "1      oneplus        OnePlus Nord CE 2 Lite 5G  19989    81.0    True   \n",
       "2      samsung            Samsung Galaxy A14 5G  16499    75.0    True   \n",
       "3     motorola             Motorola Moto G62 5G  14999    81.0    True   \n",
       "4       realme               Realme 10 Pro Plus  24999    82.0    True   \n",
       "..         ...                              ...    ...     ...     ...   \n",
       "975   motorola       Motorola Moto Edge S30 Pro  34990    83.0    True   \n",
       "976      honor                      Honor X8 5G  14990    75.0    True   \n",
       "977       poco  POCO X4 GT 5G (8GB RAM + 256GB)  28990    85.0    True   \n",
       "978   motorola             Motorola Moto G91 5G  19990    80.0    True   \n",
       "979    samsung           Samsung Galaxy M52s 5G  24990    74.0    True   \n",
       "\n",
       "     has_nfc  has_ir_blaster     processor_name processor_brand  num_cores  \\\n",
       "0       True           False  Snapdragon 8 Gen2      snapdragon  Octa Core   \n",
       "1      False           False     Snapdragon 695      snapdragon  Octa Core   \n",
       "2      False           False        Exynos 1330          exynos  Octa Core   \n",
       "3      False           False    Snapdragon  695      snapdragon  Octa Core   \n",
       "4      False           False     Dimensity 1080       dimensity  Octa Core   \n",
       "..       ...             ...                ...             ...        ...   \n",
       "975    False           False  Snapdragon 8 Gen1      snapdragon  Octa Core   \n",
       "976    False           False   Snapdragon  480+      snapdragon  Octa Core   \n",
       "977     True            True     Dimensity 8100       dimensity  Octa Core   \n",
       "978     True           False     Snapdragon 695      snapdragon  Octa Core   \n",
       "979    False           False                NaN             NaN  Octa Core   \n",
       "\n",
       "     processor_speed  battery_capacity  fast_charging  ram_capacity  \\\n",
       "0               3.20            5000.0            100          12.0   \n",
       "1               2.20            5000.0             33           6.0   \n",
       "2               2.40            5000.0             15           4.0   \n",
       "3               2.20            5000.0              0           6.0   \n",
       "4               2.60            5000.0             67           6.0   \n",
       "..               ...               ...            ...           ...   \n",
       "975             3.00            5000.0             68           8.0   \n",
       "976             2.20            5000.0             22           6.0   \n",
       "977             2.85            5080.0             67           8.0   \n",
       "978             2.20            5000.0              0           6.0   \n",
       "979              NaN            5000.0              0           8.0   \n",
       "\n",
       "     internal_memory  screen_size  refresh_rate    resolution  \\\n",
       "0              256.0         6.70           120  1440 x 3216    \n",
       "1              128.0         6.59           120  1080 x 2412    \n",
       "2               64.0         6.60            90  1080 x 2408    \n",
       "3              128.0         6.55           120  1080 x 2400    \n",
       "4              128.0         6.70           120  1080 x 2412    \n",
       "..               ...          ...           ...           ...   \n",
       "975            128.0         6.67           120  1080 x 2460    \n",
       "976            128.0         6.50            60   720 x 1600    \n",
       "977            256.0         6.60           144  1080 x 2460    \n",
       "978            128.0         6.80            60  1080 x 2400    \n",
       "979            128.0         6.50            60  1080 x 2400    \n",
       "\n",
       "     num_rear_cameras num_front_cameras       os  primary_camera_rear  \\\n",
       "0                   3                 1  android                 50.0   \n",
       "1                   3                 1  android                 64.0   \n",
       "2                   3                 1  android                 50.0   \n",
       "3                   3                 1  android                 50.0   \n",
       "4                   3                 1  android                108.0   \n",
       "..                ...               ...      ...                  ...   \n",
       "975                 3                 1  android                 64.0   \n",
       "976                 3                 1  android                 48.0   \n",
       "977                 3                 1  android                 64.0   \n",
       "978                 3                 1  android                108.0   \n",
       "979                 3                 1  android                 64.0   \n",
       "\n",
       "    primary_camera_front extended_memory  \n",
       "0                     16               0  \n",
       "1                     16            1 TB  \n",
       "2                     13            1 TB  \n",
       "3                     16            1 TB  \n",
       "4                     16               0  \n",
       "..                   ...             ...  \n",
       "975                   16               0  \n",
       "976                    8            1 TB  \n",
       "977                   16               0  \n",
       "978                   32            1 TB  \n",
       "979                   32            1 TB  \n",
       "\n",
       "[980 rows x 24 columns]"
      ]
     },
     "execution_count": 39,
     "metadata": {},
     "output_type": "execute_result"
    }
   ],
   "source": [
    "df"
   ]
  },
  {
   "cell_type": "code",
   "execution_count": 40,
   "metadata": {
    "colab": {
     "base_uri": "https://localhost:8080/"
    },
    "id": "esdy64fEMBO6",
    "outputId": "779501a2-e5e6-4f65-8f80-ca1a36d9a324"
   },
   "outputs": [
    {
     "data": {
      "text/plain": [
       "count      969.000000\n",
       "mean      4817.748194\n",
       "std       1009.540054\n",
       "min       1821.000000\n",
       "25%       4500.000000\n",
       "50%       5000.000000\n",
       "75%       5000.000000\n",
       "max      22000.000000\n",
       "Name: battery_capacity, dtype: float64"
      ]
     },
     "execution_count": 40,
     "metadata": {},
     "output_type": "execute_result"
    }
   ],
   "source": [
    "df['battery_capacity'].describe()"
   ]
  },
  {
   "cell_type": "code",
   "execution_count": 41,
   "metadata": {
    "colab": {
     "base_uri": "https://localhost:8080/",
     "height": 386
    },
    "id": "x42D0s55MG5L",
    "outputId": "2fc4ef20-c61f-4f5f-e3f3-23e25c3bf3ff"
   },
   "outputs": [
    {
     "data": {
      "text/plain": [
       "<seaborn.axisgrid.FacetGrid at 0x242aff90610>"
      ]
     },
     "execution_count": 41,
     "metadata": {},
     "output_type": "execute_result"
    },
    {
     "data": {
      "image/png": "[encoded data removed]",
      "text/plain": [
       "<Figure size 500x500 with 1 Axes>"
      ]
     },
     "metadata": {},
     "output_type": "display_data"
    }
   ],
   "source": [
    "sns.displot(kind='kde',data=df,x='battery_capacity')"
   ]
  },
  {
   "cell_type": "code",
   "execution_count": 42,
   "metadata": {
    "colab": {
     "base_uri": "https://localhost:8080/",
     "height": 325
    },
    "id": "rzT9swYBMQ1m",
    "outputId": "3975710a-08de-4140-c185-d5430c7e1b4a"
   },
   "outputs": [
    {
     "data": {
      "text/html": [
       "<div>\n",
       "<style scoped>\n",
       "    .dataframe tbody tr th:only-of-type {\n",
       "        vertical-align: middle;\n",
       "    }\n",
       "\n",
       "    .dataframe tbody tr th {\n",
       "        vertical-align: top;\n",
       "    }\n",
       "\n",
       "    .dataframe thead th {\n",
       "        text-align: right;\n",
       "    }\n",
       "</style>\n",
       "<table border=\"1\" class=\"dataframe\">\n",
       "  <thead>\n",
       "    <tr style=\"text-align: right;\">\n",
       "      <th></th>\n",
       "      <th>brand_name</th>\n",
       "      <th>model</th>\n",
       "      <th>price</th>\n",
       "      <th>rating</th>\n",
       "      <th>has_5g</th>\n",
       "      <th>has_nfc</th>\n",
       "      <th>has_ir_blaster</th>\n",
       "      <th>processor_name</th>\n",
       "      <th>processor_brand</th>\n",
       "      <th>num_cores</th>\n",
       "      <th>processor_speed</th>\n",
       "      <th>battery_capacity</th>\n",
       "      <th>fast_charging</th>\n",
       "      <th>ram_capacity</th>\n",
       "      <th>internal_memory</th>\n",
       "      <th>screen_size</th>\n",
       "      <th>refresh_rate</th>\n",
       "      <th>resolution</th>\n",
       "      <th>num_rear_cameras</th>\n",
       "      <th>num_front_cameras</th>\n",
       "      <th>os</th>\n",
       "      <th>primary_camera_rear</th>\n",
       "      <th>primary_camera_front</th>\n",
       "      <th>extended_memory</th>\n",
       "    </tr>\n",
       "  </thead>\n",
       "  <tbody>\n",
       "    <tr>\n",
       "      <th>391</th>\n",
       "      <td>oukitel</td>\n",
       "      <td>Oukitel WP19</td>\n",
       "      <td>29990</td>\n",
       "      <td>84.0</td>\n",
       "      <td>False</td>\n",
       "      <td>True</td>\n",
       "      <td>False</td>\n",
       "      <td>Helio G95</td>\n",
       "      <td>helio</td>\n",
       "      <td>Octa Core</td>\n",
       "      <td>2.0</td>\n",
       "      <td>21000.0</td>\n",
       "      <td>33</td>\n",
       "      <td>8.0</td>\n",
       "      <td>256.0</td>\n",
       "      <td>6.78</td>\n",
       "      <td>60</td>\n",
       "      <td>1080 x 2400</td>\n",
       "      <td>3</td>\n",
       "      <td>1</td>\n",
       "      <td>android</td>\n",
       "      <td>64.0</td>\n",
       "      <td>16</td>\n",
       "      <td>Not Specified</td>\n",
       "    </tr>\n",
       "    <tr>\n",
       "      <th>599</th>\n",
       "      <td>oukitel</td>\n",
       "      <td>Oukitel WP21</td>\n",
       "      <td>22990</td>\n",
       "      <td>82.0</td>\n",
       "      <td>False</td>\n",
       "      <td>False</td>\n",
       "      <td>False</td>\n",
       "      <td>Helio G99</td>\n",
       "      <td>helio</td>\n",
       "      <td>Octa Core</td>\n",
       "      <td>2.2</td>\n",
       "      <td>9800.0</td>\n",
       "      <td>66</td>\n",
       "      <td>12.0</td>\n",
       "      <td>256.0</td>\n",
       "      <td>6.78</td>\n",
       "      <td>120</td>\n",
       "      <td>1080 x 2400</td>\n",
       "      <td>3</td>\n",
       "      <td>1</td>\n",
       "      <td>Memory Card (Hybrid)</td>\n",
       "      <td>64.0</td>\n",
       "      <td>Main</td>\n",
       "      <td>0</td>\n",
       "    </tr>\n",
       "    <tr>\n",
       "      <th>843</th>\n",
       "      <td>doogee</td>\n",
       "      <td>Doogee V Max</td>\n",
       "      <td>45999</td>\n",
       "      <td>88.0</td>\n",
       "      <td>True</td>\n",
       "      <td>False</td>\n",
       "      <td>False</td>\n",
       "      <td>Dimensity 1080</td>\n",
       "      <td>dimensity</td>\n",
       "      <td>Octa Core</td>\n",
       "      <td>2.6</td>\n",
       "      <td>22000.0</td>\n",
       "      <td>33</td>\n",
       "      <td>12.0</td>\n",
       "      <td>256.0</td>\n",
       "      <td>6.58</td>\n",
       "      <td>120</td>\n",
       "      <td>1080 x 2408</td>\n",
       "      <td>3</td>\n",
       "      <td>1</td>\n",
       "      <td>android</td>\n",
       "      <td>108.0</td>\n",
       "      <td>32</td>\n",
       "      <td>2 TB</td>\n",
       "    </tr>\n",
       "    <tr>\n",
       "      <th>966</th>\n",
       "      <td>oukitel</td>\n",
       "      <td>Oukitel WP9</td>\n",
       "      <td>25899</td>\n",
       "      <td>72.0</td>\n",
       "      <td>False</td>\n",
       "      <td>True</td>\n",
       "      <td>False</td>\n",
       "      <td>Helio P60</td>\n",
       "      <td>helio</td>\n",
       "      <td>Octa Core</td>\n",
       "      <td>2.0</td>\n",
       "      <td>8000.0</td>\n",
       "      <td>-1</td>\n",
       "      <td>6.0</td>\n",
       "      <td>128.0</td>\n",
       "      <td>5.86</td>\n",
       "      <td>60</td>\n",
       "      <td>720 x 1520</td>\n",
       "      <td>3</td>\n",
       "      <td>1</td>\n",
       "      <td>android</td>\n",
       "      <td>16.0</td>\n",
       "      <td>8</td>\n",
       "      <td>Not Specified</td>\n",
       "    </tr>\n",
       "  </tbody>\n",
       "</table>\n",
       "</div>"
      ],
      "text/plain": [
       "    brand_name         model  price  rating  has_5g  has_nfc  has_ir_blaster  \\\n",
       "391    oukitel  Oukitel WP19  29990    84.0   False     True           False   \n",
       "599    oukitel  Oukitel WP21  22990    82.0   False    False           False   \n",
       "843     doogee  Doogee V Max  45999    88.0    True    False           False   \n",
       "966    oukitel   Oukitel WP9  25899    72.0   False     True           False   \n",
       "\n",
       "     processor_name processor_brand  num_cores  processor_speed  \\\n",
       "391       Helio G95           helio  Octa Core              2.0   \n",
       "599       Helio G99           helio  Octa Core              2.2   \n",
       "843  Dimensity 1080       dimensity  Octa Core              2.6   \n",
       "966       Helio P60           helio  Octa Core              2.0   \n",
       "\n",
       "     battery_capacity  fast_charging  ram_capacity  internal_memory  \\\n",
       "391           21000.0             33           8.0            256.0   \n",
       "599            9800.0             66          12.0            256.0   \n",
       "843           22000.0             33          12.0            256.0   \n",
       "966            8000.0             -1           6.0            128.0   \n",
       "\n",
       "     screen_size  refresh_rate    resolution  num_rear_cameras  \\\n",
       "391         6.78            60  1080 x 2400                  3   \n",
       "599         6.78           120  1080 x 2400                  3   \n",
       "843         6.58           120  1080 x 2408                  3   \n",
       "966         5.86            60   720 x 1520                  3   \n",
       "\n",
       "    num_front_cameras                    os  primary_camera_rear  \\\n",
       "391                 1               android                 64.0   \n",
       "599                 1  Memory Card (Hybrid)                 64.0   \n",
       "843                 1               android                108.0   \n",
       "966                 1               android                 16.0   \n",
       "\n",
       "    primary_camera_front extended_memory  \n",
       "391                   16   Not Specified  \n",
       "599                 Main               0  \n",
       "843                   32            2 TB  \n",
       "966                    8   Not Specified  "
      ]
     },
     "execution_count": 42,
     "metadata": {},
     "output_type": "execute_result"
    }
   ],
   "source": [
    "df[df['battery_capacity'] > 7000]"
   ]
  },
  {
   "cell_type": "code",
   "execution_count": 43,
   "metadata": {
    "colab": {
     "base_uri": "https://localhost:8080/"
    },
    "id": "vCvTPLFhMa67",
    "outputId": "e19271a6-27d5-4bae-d6c7-c8e489e8fa45"
   },
   "outputs": [
    {
     "data": {
      "text/plain": [
       "count    980.000000\n",
       "mean      36.048980\n",
       "std       35.948034\n",
       "min       -1.000000\n",
       "25%       15.000000\n",
       "50%       30.000000\n",
       "75%       65.000000\n",
       "max      240.000000\n",
       "Name: fast_charging, dtype: float64"
      ]
     },
     "execution_count": 43,
     "metadata": {},
     "output_type": "execute_result"
    }
   ],
   "source": [
    "df['fast_charging'].describe()"
   ]
  },
  {
   "cell_type": "code",
   "execution_count": 44,
   "metadata": {
    "id": "QMjVXM2RR6Px"
   },
   "outputs": [],
   "source": [
    "def fast(row):\n",
    "\n",
    "  if row['fast_charging'] == -1:\n",
    "    return 0\n",
    "  else:\n",
    "    return 1"
   ]
  },
  {
   "cell_type": "code",
   "execution_count": 45,
   "metadata": {
    "colab": {
     "base_uri": "https://localhost:8080/"
    },
    "id": "IX5IMRAVSNSZ",
    "outputId": "4fab281f-8cc9-4b97-f9ad-ad0e8b1bd150"
   },
   "outputs": [
    {
     "data": {
      "text/plain": [
       "Index(['brand_name', 'model', 'price', 'rating', 'has_5g', 'has_nfc',\n",
       "       'has_ir_blaster', 'processor_name', 'processor_brand', 'num_cores',\n",
       "       'processor_speed', 'battery_capacity', 'fast_charging', 'ram_capacity',\n",
       "       'internal_memory', 'screen_size', 'refresh_rate', 'resolution',\n",
       "       'num_rear_cameras', 'num_front_cameras', 'os', 'primary_camera_rear',\n",
       "       'primary_camera_front', 'extended_memory'],\n",
       "      dtype='object')"
      ]
     },
     "execution_count": 45,
     "metadata": {},
     "output_type": "execute_result"
    }
   ],
   "source": [
    "df.columns"
   ]
  },
  {
   "cell_type": "code",
   "execution_count": 46,
   "metadata": {
    "id": "wNSGL7zpQaEr"
   },
   "outputs": [],
   "source": [
    "x = df.apply(fast,axis=1)\n",
    "df.insert(12,'fast_charging_available',x)"
   ]
  },
  {
   "cell_type": "code",
   "execution_count": 47,
   "metadata": {
    "id": "EM7dwbPWRg_4"
   },
   "outputs": [],
   "source": [
    "df['fast_charging'] = df['fast_charging'].apply(lambda x:np.nan if x == 0 or x == -1 else x)"
   ]
  },
  {
   "cell_type": "code",
   "execution_count": 48,
   "metadata": {
    "colab": {
     "base_uri": "https://localhost:8080/",
     "height": 426
    },
    "id": "C2nrOtt_SZsk",
    "outputId": "924a5c7d-3aaf-47b2-9b62-00e69b4aa35b"
   },
   "outputs": [
    {
     "data": {
      "text/html": [
       "<div>\n",
       "<style scoped>\n",
       "    .dataframe tbody tr th:only-of-type {\n",
       "        vertical-align: middle;\n",
       "    }\n",
       "\n",
       "    .dataframe tbody tr th {\n",
       "        vertical-align: top;\n",
       "    }\n",
       "\n",
       "    .dataframe thead th {\n",
       "        text-align: right;\n",
       "    }\n",
       "</style>\n",
       "<table border=\"1\" class=\"dataframe\">\n",
       "  <thead>\n",
       "    <tr style=\"text-align: right;\">\n",
       "      <th></th>\n",
       "      <th>brand_name</th>\n",
       "      <th>model</th>\n",
       "      <th>price</th>\n",
       "      <th>rating</th>\n",
       "      <th>has_5g</th>\n",
       "      <th>has_nfc</th>\n",
       "      <th>has_ir_blaster</th>\n",
       "      <th>processor_name</th>\n",
       "      <th>processor_brand</th>\n",
       "      <th>num_cores</th>\n",
       "      <th>processor_speed</th>\n",
       "      <th>battery_capacity</th>\n",
       "      <th>fast_charging_available</th>\n",
       "      <th>fast_charging</th>\n",
       "      <th>ram_capacity</th>\n",
       "      <th>internal_memory</th>\n",
       "      <th>screen_size</th>\n",
       "      <th>refresh_rate</th>\n",
       "      <th>resolution</th>\n",
       "      <th>num_rear_cameras</th>\n",
       "      <th>num_front_cameras</th>\n",
       "      <th>os</th>\n",
       "      <th>primary_camera_rear</th>\n",
       "      <th>primary_camera_front</th>\n",
       "      <th>extended_memory</th>\n",
       "    </tr>\n",
       "  </thead>\n",
       "  <tbody>\n",
       "    <tr>\n",
       "      <th>0</th>\n",
       "      <td>oneplus</td>\n",
       "      <td>OnePlus 11 5G</td>\n",
       "      <td>54999</td>\n",
       "      <td>89.0</td>\n",
       "      <td>True</td>\n",
       "      <td>True</td>\n",
       "      <td>False</td>\n",
       "      <td>Snapdragon 8 Gen2</td>\n",
       "      <td>snapdragon</td>\n",
       "      <td>Octa Core</td>\n",
       "      <td>3.2</td>\n",
       "      <td>5000.0</td>\n",
       "      <td>1</td>\n",
       "      <td>100.0</td>\n",
       "      <td>12.0</td>\n",
       "      <td>256.0</td>\n",
       "      <td>6.70</td>\n",
       "      <td>120</td>\n",
       "      <td>1440 x 3216</td>\n",
       "      <td>3</td>\n",
       "      <td>1</td>\n",
       "      <td>android</td>\n",
       "      <td>50.0</td>\n",
       "      <td>16</td>\n",
       "      <td>0</td>\n",
       "    </tr>\n",
       "    <tr>\n",
       "      <th>1</th>\n",
       "      <td>oneplus</td>\n",
       "      <td>OnePlus Nord CE 2 Lite 5G</td>\n",
       "      <td>19989</td>\n",
       "      <td>81.0</td>\n",
       "      <td>True</td>\n",
       "      <td>False</td>\n",
       "      <td>False</td>\n",
       "      <td>Snapdragon 695</td>\n",
       "      <td>snapdragon</td>\n",
       "      <td>Octa Core</td>\n",
       "      <td>2.2</td>\n",
       "      <td>5000.0</td>\n",
       "      <td>1</td>\n",
       "      <td>33.0</td>\n",
       "      <td>6.0</td>\n",
       "      <td>128.0</td>\n",
       "      <td>6.59</td>\n",
       "      <td>120</td>\n",
       "      <td>1080 x 2412</td>\n",
       "      <td>3</td>\n",
       "      <td>1</td>\n",
       "      <td>android</td>\n",
       "      <td>64.0</td>\n",
       "      <td>16</td>\n",
       "      <td>1 TB</td>\n",
       "    </tr>\n",
       "    <tr>\n",
       "      <th>2</th>\n",
       "      <td>samsung</td>\n",
       "      <td>Samsung Galaxy A14 5G</td>\n",
       "      <td>16499</td>\n",
       "      <td>75.0</td>\n",
       "      <td>True</td>\n",
       "      <td>False</td>\n",
       "      <td>False</td>\n",
       "      <td>Exynos 1330</td>\n",
       "      <td>exynos</td>\n",
       "      <td>Octa Core</td>\n",
       "      <td>2.4</td>\n",
       "      <td>5000.0</td>\n",
       "      <td>1</td>\n",
       "      <td>15.0</td>\n",
       "      <td>4.0</td>\n",
       "      <td>64.0</td>\n",
       "      <td>6.60</td>\n",
       "      <td>90</td>\n",
       "      <td>1080 x 2408</td>\n",
       "      <td>3</td>\n",
       "      <td>1</td>\n",
       "      <td>android</td>\n",
       "      <td>50.0</td>\n",
       "      <td>13</td>\n",
       "      <td>1 TB</td>\n",
       "    </tr>\n",
       "    <tr>\n",
       "      <th>3</th>\n",
       "      <td>motorola</td>\n",
       "      <td>Motorola Moto G62 5G</td>\n",
       "      <td>14999</td>\n",
       "      <td>81.0</td>\n",
       "      <td>True</td>\n",
       "      <td>False</td>\n",
       "      <td>False</td>\n",
       "      <td>Snapdragon  695</td>\n",
       "      <td>snapdragon</td>\n",
       "      <td>Octa Core</td>\n",
       "      <td>2.2</td>\n",
       "      <td>5000.0</td>\n",
       "      <td>1</td>\n",
       "      <td>NaN</td>\n",
       "      <td>6.0</td>\n",
       "      <td>128.0</td>\n",
       "      <td>6.55</td>\n",
       "      <td>120</td>\n",
       "      <td>1080 x 2400</td>\n",
       "      <td>3</td>\n",
       "      <td>1</td>\n",
       "      <td>android</td>\n",
       "      <td>50.0</td>\n",
       "      <td>16</td>\n",
       "      <td>1 TB</td>\n",
       "    </tr>\n",
       "    <tr>\n",
       "      <th>4</th>\n",
       "      <td>realme</td>\n",
       "      <td>Realme 10 Pro Plus</td>\n",
       "      <td>24999</td>\n",
       "      <td>82.0</td>\n",
       "      <td>True</td>\n",
       "      <td>False</td>\n",
       "      <td>False</td>\n",
       "      <td>Dimensity 1080</td>\n",
       "      <td>dimensity</td>\n",
       "      <td>Octa Core</td>\n",
       "      <td>2.6</td>\n",
       "      <td>5000.0</td>\n",
       "      <td>1</td>\n",
       "      <td>67.0</td>\n",
       "      <td>6.0</td>\n",
       "      <td>128.0</td>\n",
       "      <td>6.70</td>\n",
       "      <td>120</td>\n",
       "      <td>1080 x 2412</td>\n",
       "      <td>3</td>\n",
       "      <td>1</td>\n",
       "      <td>android</td>\n",
       "      <td>108.0</td>\n",
       "      <td>16</td>\n",
       "      <td>0</td>\n",
       "    </tr>\n",
       "  </tbody>\n",
       "</table>\n",
       "</div>"
      ],
      "text/plain": [
       "  brand_name                      model  price  rating  has_5g  has_nfc  \\\n",
       "0    oneplus              OnePlus 11 5G  54999    89.0    True     True   \n",
       "1    oneplus  OnePlus Nord CE 2 Lite 5G  19989    81.0    True    False   \n",
       "2    samsung      Samsung Galaxy A14 5G  16499    75.0    True    False   \n",
       "3   motorola       Motorola Moto G62 5G  14999    81.0    True    False   \n",
       "4     realme         Realme 10 Pro Plus  24999    82.0    True    False   \n",
       "\n",
       "   has_ir_blaster     processor_name processor_brand  num_cores  \\\n",
       "0           False  Snapdragon 8 Gen2      snapdragon  Octa Core   \n",
       "1           False     Snapdragon 695      snapdragon  Octa Core   \n",
       "2           False        Exynos 1330          exynos  Octa Core   \n",
       "3           False    Snapdragon  695      snapdragon  Octa Core   \n",
       "4           False     Dimensity 1080       dimensity  Octa Core   \n",
       "\n",
       "   processor_speed  battery_capacity  fast_charging_available  fast_charging  \\\n",
       "0              3.2            5000.0                        1          100.0   \n",
       "1              2.2            5000.0                        1           33.0   \n",
       "2              2.4            5000.0                        1           15.0   \n",
       "3              2.2            5000.0                        1            NaN   \n",
       "4              2.6            5000.0                        1           67.0   \n",
       "\n",
       "   ram_capacity  internal_memory  screen_size  refresh_rate    resolution  \\\n",
       "0          12.0            256.0         6.70           120  1440 x 3216    \n",
       "1           6.0            128.0         6.59           120  1080 x 2412    \n",
       "2           4.0             64.0         6.60            90  1080 x 2408    \n",
       "3           6.0            128.0         6.55           120  1080 x 2400    \n",
       "4           6.0            128.0         6.70           120  1080 x 2412    \n",
       "\n",
       "   num_rear_cameras num_front_cameras       os  primary_camera_rear  \\\n",
       "0                 3                 1  android                 50.0   \n",
       "1                 3                 1  android                 64.0   \n",
       "2                 3                 1  android                 50.0   \n",
       "3                 3                 1  android                 50.0   \n",
       "4                 3                 1  android                108.0   \n",
       "\n",
       "  primary_camera_front extended_memory  \n",
       "0                   16               0  \n",
       "1                   16            1 TB  \n",
       "2                   13            1 TB  \n",
       "3                   16            1 TB  \n",
       "4                   16               0  "
      ]
     },
     "execution_count": 48,
     "metadata": {},
     "output_type": "execute_result"
    }
   ],
   "source": [
    "df.head()"
   ]
  },
  {
   "cell_type": "code",
   "execution_count": 49,
   "metadata": {
    "colab": {
     "base_uri": "https://localhost:8080/"
    },
    "id": "eSnbfydKSuED",
    "outputId": "03614544-3f3f-4c93-a348-4e3fde92bac9"
   },
   "outputs": [
    {
     "data": {
      "text/plain": [
       "8.0     339\n",
       "6.0     234\n",
       "4.0     215\n",
       "12.0     86\n",
       "3.0      54\n",
       "2.0      32\n",
       "16.0      9\n",
       "1.0       7\n",
       "18.0      2\n",
       "64.0      2\n",
       "Name: ram_capacity, dtype: int64"
      ]
     },
     "execution_count": 49,
     "metadata": {},
     "output_type": "execute_result"
    }
   ],
   "source": [
    "df['ram_capacity'].value_counts()"
   ]
  },
  {
   "cell_type": "code",
   "execution_count": 50,
   "metadata": {
    "id": "Vs8JxKhqS4W-"
   },
   "outputs": [],
   "source": [
    "temp_df = df[df['internal_memory'].isnull()]"
   ]
  },
  {
   "cell_type": "code",
   "execution_count": 51,
   "metadata": {
    "id": "jGdYmsYxTDoz"
   },
   "outputs": [],
   "source": [
    "df.loc[temp_df.index,['ram_capacity','internal_memory']] = [[4,64],[4,64]]"
   ]
  },
  {
   "cell_type": "code",
   "execution_count": 52,
   "metadata": {
    "colab": {
     "base_uri": "https://localhost:8080/"
    },
    "id": "VlY3Fj8ETgEM",
    "outputId": "4ab52ba3-2254-489f-b9ff-e54164f4307b"
   },
   "outputs": [
    {
     "data": {
      "text/plain": [
       "128.0     523\n",
       "64.0      193\n",
       "256.0     157\n",
       "32.0       67\n",
       "512.0      22\n",
       "16.0       12\n",
       "1024.0      5\n",
       "8.0         1\n",
       "Name: internal_memory, dtype: int64"
      ]
     },
     "execution_count": 52,
     "metadata": {},
     "output_type": "execute_result"
    }
   ],
   "source": [
    "df['internal_memory'].value_counts()"
   ]
  },
  {
   "cell_type": "code",
   "execution_count": 53,
   "metadata": {
    "colab": {
     "base_uri": "https://localhost:8080/"
    },
    "id": "e8xWNsQMT6Ae",
    "outputId": "b2ba96a3-5003-43b2-837a-ad68bd884118"
   },
   "outputs": [
    {
     "data": {
      "text/plain": [
       "count    980.000000\n",
       "mean       6.536765\n",
       "std        0.349162\n",
       "min        3.540000\n",
       "25%        6.500000\n",
       "50%        6.580000\n",
       "75%        6.670000\n",
       "max        8.030000\n",
       "Name: screen_size, dtype: float64"
      ]
     },
     "execution_count": 53,
     "metadata": {},
     "output_type": "execute_result"
    }
   ],
   "source": [
    "df['screen_size'].describe()"
   ]
  },
  {
   "cell_type": "code",
   "execution_count": 54,
   "metadata": {
    "colab": {
     "base_uri": "https://localhost:8080/",
     "height": 386
    },
    "id": "fO7aaU0LT--A",
    "outputId": "aebb8923-c76c-44ae-dbe4-a6d119330f6e"
   },
   "outputs": [
    {
     "data": {
      "text/plain": [
       "<seaborn.axisgrid.FacetGrid at 0x242b0036290>"
      ]
     },
     "execution_count": 54,
     "metadata": {},
     "output_type": "execute_result"
    },
    {
     "data": {
      "image/png": "[encoded data removed]",
      "text/plain": [
       "<Figure size 500x500 with 1 Axes>"
      ]
     },
     "metadata": {},
     "output_type": "display_data"
    }
   ],
   "source": [
    "sns.displot(kind='kde',data=df,x='screen_size')"
   ]
  },
  {
   "cell_type": "code",
   "execution_count": 55,
   "metadata": {
    "colab": {
     "base_uri": "https://localhost:8080/"
    },
    "id": "CaUcfAjGUVTI",
    "outputId": "56f82a37-49f5-47e1-c8ba-4e3b8b36ed52"
   },
   "outputs": [
    {
     "data": {
      "text/plain": [
       "-2.11619902968816"
      ]
     },
     "execution_count": 55,
     "metadata": {},
     "output_type": "execute_result"
    }
   ],
   "source": [
    "df['screen_size'].skew()"
   ]
  },
  {
   "cell_type": "code",
   "execution_count": 56,
   "metadata": {
    "colab": {
     "base_uri": "https://localhost:8080/",
     "height": 352
    },
    "id": "lTWqH81vUpLr",
    "outputId": "d4f884e1-514f-4a32-e9ef-303b85e9605e"
   },
   "outputs": [
    {
     "data": {
      "text/plain": [
       "<Axes: ylabel='screen_size'>"
      ]
     },
     "execution_count": 56,
     "metadata": {},
     "output_type": "execute_result"
    },
    {
     "data": {
      "image/png": "[encoded data removed]",
      "text/plain": [
       "<Figure size 640x480 with 1 Axes>"
      ]
     },
     "metadata": {},
     "output_type": "display_data"
    }
   ],
   "source": [
    "sns.boxplot(df['screen_size'])"
   ]
  },
  {
   "cell_type": "code",
   "execution_count": 57,
   "metadata": {
    "colab": {
     "base_uri": "https://localhost:8080/"
    },
    "id": "5aauUnTzU7rs",
    "outputId": "1d04e6e8-e56c-4fdf-a93c-54282b088157"
   },
   "outputs": [
    {
     "data": {
      "text/plain": [
       "0                       362\n",
       "1 TB                    262\n",
       "512 GB                  116\n",
       "256 GB                  100\n",
       "Not Specified            88\n",
       "Memory Card (Hybrid)     30\n",
       "128 GB                    9\n",
       "2 TB                      6\n",
       "32 GB                     3\n",
       "64 GB                     3\n",
       "1000 GB                   1\n",
       "Name: extended_memory, dtype: int64"
      ]
     },
     "execution_count": 57,
     "metadata": {},
     "output_type": "execute_result"
    }
   ],
   "source": [
    "df['extended_memory'].value_counts()"
   ]
  },
  {
   "cell_type": "code",
   "execution_count": 58,
   "metadata": {
    "id": "Zqux3kbJVDg-"
   },
   "outputs": [],
   "source": [
    "df['extended_memory_available'] = df['extended_memory'].apply(lambda x:0 if x == '0' else 1)"
   ]
  },
  {
   "cell_type": "code",
   "execution_count": 59,
   "metadata": {
    "id": "kFZYIAQ7WF5V"
   },
   "outputs": [],
   "source": [
    "def extended_extractor(row):\n",
    "\n",
    "  if row['extended_memory_available'] == 0:\n",
    "    return np.nan\n",
    "  else:\n",
    "    if row['extended_memory'] == '1 TB':\n",
    "      return 1024\n",
    "    elif row['extended_memory'] == '512 GB':\n",
    "      return 512\n",
    "    elif row['extended_memory'] == '256 GB':\n",
    "      return 256\n",
    "    elif row['extended_memory'] == 'Not Specified':\n",
    "      return np.nan\n",
    "    elif row['extended_memory'] == 'Memory Card (Hybrid)':\n",
    "      return np.nan\n",
    "    elif row['extended_memory'] == '128 GB':\n",
    "      return 128\n",
    "    elif row['extended_memory'] == '2 TB':\n",
    "      return 2048\n",
    "    elif row['extended_memory'] == '32 GB':\n",
    "      return 32\n",
    "    elif row['extended_memory'] == '64 GB':\n",
    "      return 64\n",
    "    elif row['extended_memory'] == '1000 GB':\n",
    "      return 1000\n",
    "\n",
    "\n"
   ]
  },
  {
   "cell_type": "code",
   "execution_count": 60,
   "metadata": {
    "id": "FgSHkdQ3ZFZq"
   },
   "outputs": [],
   "source": [
    "def extended_extractor(row):\n",
    "\n",
    "  if row['extended_memory_available'] == 0:\n",
    "    return np.nan\n",
    "  else:\n",
    "    if row['extended_memory'] == 'Not Specified':\n",
    "      return np.nan\n",
    "    elif row['extended_memory'] == 'Memory Card (Hybrid)':\n",
    "      return np.nan\n",
    "    else:\n",
    "      return row['extended_memory']\n",
    "\n",
    "\n",
    "\n"
   ]
  },
  {
   "cell_type": "code",
   "execution_count": 61,
   "metadata": {
    "colab": {
     "base_uri": "https://localhost:8080/"
    },
    "id": "YFErP0BzYWwj",
    "outputId": "2d1fcb96-9660-40d6-918f-b99edf48dedd"
   },
   "outputs": [
    {
     "data": {
      "text/plain": [
       "0         0\n",
       "1      1 TB\n",
       "2      1 TB\n",
       "3      1 TB\n",
       "4         0\n",
       "       ... \n",
       "975       0\n",
       "976    1 TB\n",
       "977       0\n",
       "978    1 TB\n",
       "979    1 TB\n",
       "Name: extended_memory, Length: 980, dtype: object"
      ]
     },
     "execution_count": 61,
     "metadata": {},
     "output_type": "execute_result"
    }
   ],
   "source": [
    "df['extended_memory']"
   ]
  },
  {
   "cell_type": "code",
   "execution_count": 62,
   "metadata": {
    "id": "BISF102GWNUG"
   },
   "outputs": [],
   "source": [
    "x = df.apply(extended_extractor,axis=1).str.replace('\\u2009',' ').str.split(' ').str.get(0)"
   ]
  },
  {
   "cell_type": "code",
   "execution_count": 63,
   "metadata": {},
   "outputs": [
    {
     "data": {
      "text/plain": [
       "0       NaN\n",
       "1      1 TB\n",
       "2      1 TB\n",
       "3      1 TB\n",
       "4       NaN\n",
       "       ... \n",
       "975     NaN\n",
       "976    1 TB\n",
       "977     NaN\n",
       "978    1 TB\n",
       "979    1 TB\n",
       "Length: 980, dtype: object"
      ]
     },
     "execution_count": 63,
     "metadata": {},
     "output_type": "execute_result"
    }
   ],
   "source": [
    "df.apply(extended_extractor,axis=1)"
   ]
  },
  {
   "cell_type": "code",
   "execution_count": 64,
   "metadata": {
    "colab": {
     "base_uri": "https://localhost:8080/"
    },
    "id": "NO47oxggXuty",
    "outputId": "9ad10f6a-7395-49c0-b133-3dc46555b813"
   },
   "outputs": [
    {
     "data": {
      "text/plain": [
       "0      0\n",
       "1      1\n",
       "2      1\n",
       "3      1\n",
       "4      0\n",
       "      ..\n",
       "975    0\n",
       "976    1\n",
       "977    0\n",
       "978    1\n",
       "979    1\n",
       "Name: extended_memory_available, Length: 980, dtype: int64"
      ]
     },
     "execution_count": 64,
     "metadata": {},
     "output_type": "execute_result"
    }
   ],
   "source": [
    "df['extended_memory_available']"
   ]
  },
  {
   "cell_type": "code",
   "execution_count": 65,
   "metadata": {
    "id": "80OH9gT2YS7L"
   },
   "outputs": [],
   "source": [
    "df['extended_upto'] = x"
   ]
  },
  {
   "cell_type": "code",
   "execution_count": 66,
   "metadata": {
    "colab": {
     "base_uri": "https://localhost:8080/"
    },
    "id": "n8zhTp-zaC1A",
    "outputId": "be01e054-5a9a-4205-d2b0-58e2698985e8"
   },
   "outputs": [
    {
     "data": {
      "text/plain": [
       "1       262\n",
       "512     116\n",
       "256     100\n",
       "128       9\n",
       "2         6\n",
       "32        3\n",
       "64        3\n",
       "1000      1\n",
       "Name: extended_upto, dtype: int64"
      ]
     },
     "execution_count": 66,
     "metadata": {},
     "output_type": "execute_result"
    }
   ],
   "source": [
    "df['extended_upto'].value_counts()"
   ]
  },
  {
   "cell_type": "code",
   "execution_count": 67,
   "metadata": {
    "id": "NQ59LYUxaFDt"
   },
   "outputs": [],
   "source": [
    "def transform(text):\n",
    "\n",
    "  if text == '1':\n",
    "    return '1024'\n",
    "  elif text == '2':\n",
    "    return '2048'\n",
    "  elif text == '1000':\n",
    "    return '1024'\n",
    "  else:\n",
    "    return text"
   ]
  },
  {
   "cell_type": "code",
   "execution_count": 68,
   "metadata": {
    "id": "PzHrNsJCai-9"
   },
   "outputs": [],
   "source": [
    "df['extended_upto'] = df['extended_upto'].apply(transform)"
   ]
  },
  {
   "cell_type": "code",
   "execution_count": 69,
   "metadata": {
    "colab": {
     "base_uri": "https://localhost:8080/"
    },
    "id": "15DvFt5banL4",
    "outputId": "a04168a8-c9e0-4eff-91df-bbd199a8a700"
   },
   "outputs": [
    {
     "data": {
      "text/plain": [
       "0      android\n",
       "1      android\n",
       "2      android\n",
       "3      android\n",
       "4      android\n",
       "        ...   \n",
       "975    android\n",
       "976    android\n",
       "977    android\n",
       "978    android\n",
       "979    android\n",
       "Name: os, Length: 980, dtype: object"
      ]
     },
     "execution_count": 69,
     "metadata": {},
     "output_type": "execute_result"
    }
   ],
   "source": [
    "df['os']"
   ]
  },
  {
   "cell_type": "code",
   "execution_count": 70,
   "metadata": {
    "id": "B8fQLOK3awWN"
   },
   "outputs": [],
   "source": [
    "def os_transform(text):\n",
    "\n",
    "  if 'Memory' in text:\n",
    "    return np.nan\n",
    "  elif 'android' in text:\n",
    "    return text\n",
    "  elif 'ios' in text:\n",
    "    return text\n",
    "  else:\n",
    "    return 'other'"
   ]
  },
  {
   "cell_type": "code",
   "execution_count": 71,
   "metadata": {
    "id": "EB2wPMVKb8Zj"
   },
   "outputs": [],
   "source": [
    "df['os'] = df['os'].apply(os_transform)"
   ]
  },
  {
   "cell_type": "code",
   "execution_count": 72,
   "metadata": {
    "colab": {
     "base_uri": "https://localhost:8080/",
     "height": 426
    },
    "id": "aF3w_uozb_qx",
    "outputId": "4409c411-5641-4644-9e4a-3ab450cd637d"
   },
   "outputs": [
    {
     "data": {
      "text/html": [
       "<div>\n",
       "<style scoped>\n",
       "    .dataframe tbody tr th:only-of-type {\n",
       "        vertical-align: middle;\n",
       "    }\n",
       "\n",
       "    .dataframe tbody tr th {\n",
       "        vertical-align: top;\n",
       "    }\n",
       "\n",
       "    .dataframe thead th {\n",
       "        text-align: right;\n",
       "    }\n",
       "</style>\n",
       "<table border=\"1\" class=\"dataframe\">\n",
       "  <thead>\n",
       "    <tr style=\"text-align: right;\">\n",
       "      <th></th>\n",
       "      <th>brand_name</th>\n",
       "      <th>model</th>\n",
       "      <th>price</th>\n",
       "      <th>rating</th>\n",
       "      <th>has_5g</th>\n",
       "      <th>has_nfc</th>\n",
       "      <th>has_ir_blaster</th>\n",
       "      <th>processor_name</th>\n",
       "      <th>processor_brand</th>\n",
       "      <th>num_cores</th>\n",
       "      <th>processor_speed</th>\n",
       "      <th>battery_capacity</th>\n",
       "      <th>fast_charging_available</th>\n",
       "      <th>fast_charging</th>\n",
       "      <th>ram_capacity</th>\n",
       "      <th>internal_memory</th>\n",
       "      <th>screen_size</th>\n",
       "      <th>refresh_rate</th>\n",
       "      <th>resolution</th>\n",
       "      <th>num_rear_cameras</th>\n",
       "      <th>num_front_cameras</th>\n",
       "      <th>os</th>\n",
       "      <th>primary_camera_rear</th>\n",
       "      <th>primary_camera_front</th>\n",
       "      <th>extended_memory</th>\n",
       "      <th>extended_memory_available</th>\n",
       "      <th>extended_upto</th>\n",
       "    </tr>\n",
       "  </thead>\n",
       "  <tbody>\n",
       "    <tr>\n",
       "      <th>0</th>\n",
       "      <td>oneplus</td>\n",
       "      <td>OnePlus 11 5G</td>\n",
       "      <td>54999</td>\n",
       "      <td>89.0</td>\n",
       "      <td>True</td>\n",
       "      <td>True</td>\n",
       "      <td>False</td>\n",
       "      <td>Snapdragon 8 Gen2</td>\n",
       "      <td>snapdragon</td>\n",
       "      <td>Octa Core</td>\n",
       "      <td>3.2</td>\n",
       "      <td>5000.0</td>\n",
       "      <td>1</td>\n",
       "      <td>100.0</td>\n",
       "      <td>12.0</td>\n",
       "      <td>256.0</td>\n",
       "      <td>6.70</td>\n",
       "      <td>120</td>\n",
       "      <td>1440 x 3216</td>\n",
       "      <td>3</td>\n",
       "      <td>1</td>\n",
       "      <td>android</td>\n",
       "      <td>50.0</td>\n",
       "      <td>16</td>\n",
       "      <td>0</td>\n",
       "      <td>0</td>\n",
       "      <td>NaN</td>\n",
       "    </tr>\n",
       "    <tr>\n",
       "      <th>1</th>\n",
       "      <td>oneplus</td>\n",
       "      <td>OnePlus Nord CE 2 Lite 5G</td>\n",
       "      <td>19989</td>\n",
       "      <td>81.0</td>\n",
       "      <td>True</td>\n",
       "      <td>False</td>\n",
       "      <td>False</td>\n",
       "      <td>Snapdragon 695</td>\n",
       "      <td>snapdragon</td>\n",
       "      <td>Octa Core</td>\n",
       "      <td>2.2</td>\n",
       "      <td>5000.0</td>\n",
       "      <td>1</td>\n",
       "      <td>33.0</td>\n",
       "      <td>6.0</td>\n",
       "      <td>128.0</td>\n",
       "      <td>6.59</td>\n",
       "      <td>120</td>\n",
       "      <td>1080 x 2412</td>\n",
       "      <td>3</td>\n",
       "      <td>1</td>\n",
       "      <td>android</td>\n",
       "      <td>64.0</td>\n",
       "      <td>16</td>\n",
       "      <td>1 TB</td>\n",
       "      <td>1</td>\n",
       "      <td>1024</td>\n",
       "    </tr>\n",
       "    <tr>\n",
       "      <th>2</th>\n",
       "      <td>samsung</td>\n",
       "      <td>Samsung Galaxy A14 5G</td>\n",
       "      <td>16499</td>\n",
       "      <td>75.0</td>\n",
       "      <td>True</td>\n",
       "      <td>False</td>\n",
       "      <td>False</td>\n",
       "      <td>Exynos 1330</td>\n",
       "      <td>exynos</td>\n",
       "      <td>Octa Core</td>\n",
       "      <td>2.4</td>\n",
       "      <td>5000.0</td>\n",
       "      <td>1</td>\n",
       "      <td>15.0</td>\n",
       "      <td>4.0</td>\n",
       "      <td>64.0</td>\n",
       "      <td>6.60</td>\n",
       "      <td>90</td>\n",
       "      <td>1080 x 2408</td>\n",
       "      <td>3</td>\n",
       "      <td>1</td>\n",
       "      <td>android</td>\n",
       "      <td>50.0</td>\n",
       "      <td>13</td>\n",
       "      <td>1 TB</td>\n",
       "      <td>1</td>\n",
       "      <td>1024</td>\n",
       "    </tr>\n",
       "    <tr>\n",
       "      <th>3</th>\n",
       "      <td>motorola</td>\n",
       "      <td>Motorola Moto G62 5G</td>\n",
       "      <td>14999</td>\n",
       "      <td>81.0</td>\n",
       "      <td>True</td>\n",
       "      <td>False</td>\n",
       "      <td>False</td>\n",
       "      <td>Snapdragon  695</td>\n",
       "      <td>snapdragon</td>\n",
       "      <td>Octa Core</td>\n",
       "      <td>2.2</td>\n",
       "      <td>5000.0</td>\n",
       "      <td>1</td>\n",
       "      <td>NaN</td>\n",
       "      <td>6.0</td>\n",
       "      <td>128.0</td>\n",
       "      <td>6.55</td>\n",
       "      <td>120</td>\n",
       "      <td>1080 x 2400</td>\n",
       "      <td>3</td>\n",
       "      <td>1</td>\n",
       "      <td>android</td>\n",
       "      <td>50.0</td>\n",
       "      <td>16</td>\n",
       "      <td>1 TB</td>\n",
       "      <td>1</td>\n",
       "      <td>1024</td>\n",
       "    </tr>\n",
       "    <tr>\n",
       "      <th>4</th>\n",
       "      <td>realme</td>\n",
       "      <td>Realme 10 Pro Plus</td>\n",
       "      <td>24999</td>\n",
       "      <td>82.0</td>\n",
       "      <td>True</td>\n",
       "      <td>False</td>\n",
       "      <td>False</td>\n",
       "      <td>Dimensity 1080</td>\n",
       "      <td>dimensity</td>\n",
       "      <td>Octa Core</td>\n",
       "      <td>2.6</td>\n",
       "      <td>5000.0</td>\n",
       "      <td>1</td>\n",
       "      <td>67.0</td>\n",
       "      <td>6.0</td>\n",
       "      <td>128.0</td>\n",
       "      <td>6.70</td>\n",
       "      <td>120</td>\n",
       "      <td>1080 x 2412</td>\n",
       "      <td>3</td>\n",
       "      <td>1</td>\n",
       "      <td>android</td>\n",
       "      <td>108.0</td>\n",
       "      <td>16</td>\n",
       "      <td>0</td>\n",
       "      <td>0</td>\n",
       "      <td>NaN</td>\n",
       "    </tr>\n",
       "  </tbody>\n",
       "</table>\n",
       "</div>"
      ],
      "text/plain": [
       "  brand_name                      model  price  rating  has_5g  has_nfc  \\\n",
       "0    oneplus              OnePlus 11 5G  54999    89.0    True     True   \n",
       "1    oneplus  OnePlus Nord CE 2 Lite 5G  19989    81.0    True    False   \n",
       "2    samsung      Samsung Galaxy A14 5G  16499    75.0    True    False   \n",
       "3   motorola       Motorola Moto G62 5G  14999    81.0    True    False   \n",
       "4     realme         Realme 10 Pro Plus  24999    82.0    True    False   \n",
       "\n",
       "   has_ir_blaster     processor_name processor_brand  num_cores  \\\n",
       "0           False  Snapdragon 8 Gen2      snapdragon  Octa Core   \n",
       "1           False     Snapdragon 695      snapdragon  Octa Core   \n",
       "2           False        Exynos 1330          exynos  Octa Core   \n",
       "3           False    Snapdragon  695      snapdragon  Octa Core   \n",
       "4           False     Dimensity 1080       dimensity  Octa Core   \n",
       "\n",
       "   processor_speed  battery_capacity  fast_charging_available  fast_charging  \\\n",
       "0              3.2            5000.0                        1          100.0   \n",
       "1              2.2            5000.0                        1           33.0   \n",
       "2              2.4            5000.0                        1           15.0   \n",
       "3              2.2            5000.0                        1            NaN   \n",
       "4              2.6            5000.0                        1           67.0   \n",
       "\n",
       "   ram_capacity  internal_memory  screen_size  refresh_rate    resolution  \\\n",
       "0          12.0            256.0         6.70           120  1440 x 3216    \n",
       "1           6.0            128.0         6.59           120  1080 x 2412    \n",
       "2           4.0             64.0         6.60            90  1080 x 2408    \n",
       "3           6.0            128.0         6.55           120  1080 x 2400    \n",
       "4           6.0            128.0         6.70           120  1080 x 2412    \n",
       "\n",
       "   num_rear_cameras num_front_cameras       os  primary_camera_rear  \\\n",
       "0                 3                 1  android                 50.0   \n",
       "1                 3                 1  android                 64.0   \n",
       "2                 3                 1  android                 50.0   \n",
       "3                 3                 1  android                 50.0   \n",
       "4                 3                 1  android                108.0   \n",
       "\n",
       "  primary_camera_front extended_memory  extended_memory_available  \\\n",
       "0                   16               0                          0   \n",
       "1                   16            1 TB                          1   \n",
       "2                   13            1 TB                          1   \n",
       "3                   16            1 TB                          1   \n",
       "4                   16               0                          0   \n",
       "\n",
       "  extended_upto  \n",
       "0           NaN  \n",
       "1          1024  \n",
       "2          1024  \n",
       "3          1024  \n",
       "4           NaN  "
      ]
     },
     "execution_count": 72,
     "metadata": {},
     "output_type": "execute_result"
    }
   ],
   "source": [
    "df.head()"
   ]
  },
  {
   "cell_type": "code",
   "execution_count": 73,
   "metadata": {
    "colab": {
     "base_uri": "https://localhost:8080/"
    },
    "id": "X7EdXMD3cKnn",
    "outputId": "45e02286-b12b-4554-db6d-58de79e75359"
   },
   "outputs": [
    {
     "data": {
      "text/plain": [
       "1024    263\n",
       "512     116\n",
       "256     100\n",
       "128       9\n",
       "2048      6\n",
       "32        3\n",
       "64        3\n",
       "Name: extended_upto, dtype: int64"
      ]
     },
     "execution_count": 73,
     "metadata": {},
     "output_type": "execute_result"
    }
   ],
   "source": [
    "df['extended_upto'].value_counts()"
   ]
  },
  {
   "cell_type": "code",
   "execution_count": 74,
   "metadata": {
    "id": "ktXU08CMcRpf"
   },
   "outputs": [],
   "source": [
    "df.drop(columns=['processor_name','extended_memory'],inplace=True)"
   ]
  },
  {
   "cell_type": "code",
   "execution_count": 75,
   "metadata": {
    "colab": {
     "base_uri": "https://localhost:8080/"
    },
    "id": "bTinf8A6cy-n",
    "outputId": "94e5e61b-7424-49c0-e730-22e73190563f"
   },
   "outputs": [
    {
     "data": {
      "text/plain": [
       "brand_name                     0\n",
       "model                          0\n",
       "price                          0\n",
       "rating                       101\n",
       "has_5g                         0\n",
       "has_nfc                        0\n",
       "has_ir_blaster                 0\n",
       "processor_brand               20\n",
       "num_cores                      6\n",
       "processor_speed               42\n",
       "battery_capacity              11\n",
       "fast_charging_available        0\n",
       "fast_charging                211\n",
       "ram_capacity                   0\n",
       "internal_memory                0\n",
       "screen_size                    0\n",
       "refresh_rate                   0\n",
       "resolution                     0\n",
       "num_rear_cameras               0\n",
       "num_front_cameras              0\n",
       "os                            14\n",
       "primary_camera_rear            0\n",
       "primary_camera_front           4\n",
       "extended_memory_available      0\n",
       "extended_upto                480\n",
       "dtype: int64"
      ]
     },
     "execution_count": 75,
     "metadata": {},
     "output_type": "execute_result"
    }
   ],
   "source": [
    "df.isnull().sum()"
   ]
  },
  {
   "cell_type": "code",
   "execution_count": 76,
   "metadata": {
    "colab": {
     "base_uri": "https://localhost:8080/"
    },
    "id": "RN8qlTRAdNGu",
    "outputId": "05f2910c-bf4a-4f05-e5d1-4d6728854a87"
   },
   "outputs": [
    {
     "name": "stderr",
     "output_type": "stream",
     "text": [
      "C:\\Users\\Mayur Dalvi\\AppData\\Local\\Temp\\ipykernel_19608\\2193793502.py:1: FutureWarning: The default value of numeric_only in DataFrame.corr is deprecated. In a future version, it will default to False. Select only valid columns or specify the value of numeric_only to silence this warning.\n",
      "  df.corr()['rating']\n"
     ]
    },
    {
     "data": {
      "text/plain": [
       "price                        0.283504\n",
       "rating                       1.000000\n",
       "has_5g                       0.596087\n",
       "has_nfc                      0.474754\n",
       "has_ir_blaster               0.156421\n",
       "processor_speed              0.628446\n",
       "battery_capacity            -0.015581\n",
       "fast_charging_available      0.542814\n",
       "fast_charging                0.527613\n",
       "ram_capacity                 0.757613\n",
       "internal_memory              0.481070\n",
       "screen_size                  0.298272\n",
       "refresh_rate                 0.610795\n",
       "num_rear_cameras             0.515531\n",
       "primary_camera_rear          0.562046\n",
       "extended_memory_available   -0.415265\n",
       "Name: rating, dtype: float64"
      ]
     },
     "execution_count": 76,
     "metadata": {},
     "output_type": "execute_result"
    }
   ],
   "source": [
    "df.corr()['rating']"
   ]
  },
  {
   "cell_type": "code",
   "execution_count": 77,
   "metadata": {
    "colab": {
     "base_uri": "https://localhost:8080/"
    },
    "id": "btwtV_ZDd7_N",
    "outputId": "aa5c740e-df36-49f1-93e9-1b32911f7a31"
   },
   "outputs": [
    {
     "name": "stdout",
     "output_type": "stream",
     "text": [
      "<class 'pandas.core.frame.DataFrame'>\n",
      "RangeIndex: 980 entries, 0 to 979\n",
      "Data columns (total 25 columns):\n",
      " #   Column                     Non-Null Count  Dtype  \n",
      "---  ------                     --------------  -----  \n",
      " 0   brand_name                 980 non-null    object \n",
      " 1   model                      980 non-null    object \n",
      " 2   price                      980 non-null    int64  \n",
      " 3   rating                     879 non-null    float64\n",
      " 4   has_5g                     980 non-null    bool   \n",
      " 5   has_nfc                    980 non-null    bool   \n",
      " 6   has_ir_blaster             980 non-null    bool   \n",
      " 7   processor_brand            960 non-null    object \n",
      " 8   num_cores                  974 non-null    object \n",
      " 9   processor_speed            938 non-null    float64\n",
      " 10  battery_capacity           969 non-null    float64\n",
      " 11  fast_charging_available    980 non-null    int64  \n",
      " 12  fast_charging              769 non-null    float64\n",
      " 13  ram_capacity               980 non-null    float64\n",
      " 14  internal_memory            980 non-null    float64\n",
      " 15  screen_size                980 non-null    float64\n",
      " 16  refresh_rate               980 non-null    int64  \n",
      " 17  resolution                 980 non-null    object \n",
      " 18  num_rear_cameras           980 non-null    int64  \n",
      " 19  num_front_cameras          980 non-null    object \n",
      " 20  os                         966 non-null    object \n",
      " 21  primary_camera_rear        980 non-null    float64\n",
      " 22  primary_camera_front       976 non-null    object \n",
      " 23  extended_memory_available  980 non-null    int64  \n",
      " 24  extended_upto              500 non-null    object \n",
      "dtypes: bool(3), float64(8), int64(5), object(9)\n",
      "memory usage: 171.4+ KB\n"
     ]
    }
   ],
   "source": [
    "df.info()"
   ]
  },
  {
   "cell_type": "code",
   "execution_count": 78,
   "metadata": {
    "colab": {
     "base_uri": "https://localhost:8080/"
    },
    "id": "WDzRts2mezea",
    "outputId": "14d300a6-7cc8-4c1b-f021-634076252330"
   },
   "outputs": [
    {
     "data": {
      "text/plain": [
       "16      307\n",
       "8       178\n",
       "32      155\n",
       "5       119\n",
       "12       50\n",
       "13       41\n",
       "20       37\n",
       "10       24\n",
       "50       12\n",
       "60       10\n",
       "44        8\n",
       "40        6\n",
       "2         5\n",
       "7         5\n",
       "24        3\n",
       "25        3\n",
       "10.8      3\n",
       "48        2\n",
       "11.1      2\n",
       "0.3       1\n",
       "2.1       1\n",
       "Main      1\n",
       "10.7      1\n",
       "10.1      1\n",
       "12.6      1\n",
       "Name: primary_camera_front, dtype: int64"
      ]
     },
     "execution_count": 78,
     "metadata": {},
     "output_type": "execute_result"
    }
   ],
   "source": [
    "df['primary_camera_front'].value_counts()"
   ]
  },
  {
   "cell_type": "code",
   "execution_count": 79,
   "metadata": {
    "id": "72p1eBHQfz1d"
   },
   "outputs": [],
   "source": [
    "df['primary_camera_front'] = df['primary_camera_front'].apply(lambda x: np.nan if x == 'Main' else x).astype(float)"
   ]
  },
  {
   "cell_type": "code",
   "execution_count": 80,
   "metadata": {
    "colab": {
     "base_uri": "https://localhost:8080/"
    },
    "id": "bGgVcsB7gOil",
    "outputId": "821b3167-d8c9-4525-8ef9-91b1fb037587"
   },
   "outputs": [
    {
     "data": {
      "text/plain": [
       "Octa Core    899\n",
       "Hexa Core     39\n",
       "Quad Core     36\n",
       "Name: num_cores, dtype: int64"
      ]
     },
     "execution_count": 80,
     "metadata": {},
     "output_type": "execute_result"
    }
   ],
   "source": [
    "df['num_cores'].value_counts()"
   ]
  },
  {
   "cell_type": "code",
   "execution_count": 81,
   "metadata": {
    "id": "Mab8iz-ThHLV"
   },
   "outputs": [],
   "source": [
    "df['num_cores'] = df['num_cores'].str.replace('Octa Core','8')\n",
    "df['num_cores'] = df['num_cores'].str.replace('Hexa Core','6')\n",
    "df['num_cores'] = df['num_cores'].str.replace('Quad Core','4')"
   ]
  },
  {
   "cell_type": "code",
   "execution_count": 82,
   "metadata": {
    "id": "NKDT3mQuhT9R"
   },
   "outputs": [],
   "source": [
    "df.to_csv('smartphone_cleaned_v4.csv',index=False)"
   ]
  },
  {
   "cell_type": "code",
   "execution_count": 83,
   "metadata": {
    "id": "fzflm96ehiie"
   },
   "outputs": [],
   "source": [
    "new_df = pd.read_csv('smartphone_cleaned_v4.csv')"
   ]
  },
  {
   "cell_type": "code",
   "execution_count": 84,
   "metadata": {
    "colab": {
     "base_uri": "https://localhost:8080/"
    },
    "id": "0rXabpn4h5Cw",
    "outputId": "309c8590-192f-447d-9c5f-d96d9e082a55"
   },
   "outputs": [
    {
     "data": {
      "text/html": [
       "<div>\n",
       "<style scoped>\n",
       "    .dataframe tbody tr th:only-of-type {\n",
       "        vertical-align: middle;\n",
       "    }\n",
       "\n",
       "    .dataframe tbody tr th {\n",
       "        vertical-align: top;\n",
       "    }\n",
       "\n",
       "    .dataframe thead th {\n",
       "        text-align: right;\n",
       "    }\n",
       "</style>\n",
       "<table border=\"1\" class=\"dataframe\">\n",
       "  <thead>\n",
       "    <tr style=\"text-align: right;\">\n",
       "      <th></th>\n",
       "      <th>brand_name</th>\n",
       "      <th>model</th>\n",
       "      <th>processor_brand</th>\n",
       "    </tr>\n",
       "  </thead>\n",
       "  <tbody>\n",
       "    <tr>\n",
       "      <th>0</th>\n",
       "      <td>oneplus</td>\n",
       "      <td>OnePlus 11 5G</td>\n",
       "      <td>snapdragon</td>\n",
       "    </tr>\n",
       "    <tr>\n",
       "      <th>1</th>\n",
       "      <td>oneplus</td>\n",
       "      <td>OnePlus Nord CE 2 Lite 5G</td>\n",
       "      <td>snapdragon</td>\n",
       "    </tr>\n",
       "    <tr>\n",
       "      <th>2</th>\n",
       "      <td>samsung</td>\n",
       "      <td>Samsung Galaxy A14 5G</td>\n",
       "      <td>exynos</td>\n",
       "    </tr>\n",
       "    <tr>\n",
       "      <th>3</th>\n",
       "      <td>motorola</td>\n",
       "      <td>Motorola Moto G62 5G</td>\n",
       "      <td>snapdragon</td>\n",
       "    </tr>\n",
       "    <tr>\n",
       "      <th>4</th>\n",
       "      <td>realme</td>\n",
       "      <td>Realme 10 Pro Plus</td>\n",
       "      <td>dimensity</td>\n",
       "    </tr>\n",
       "    <tr>\n",
       "      <th>...</th>\n",
       "      <td>...</td>\n",
       "      <td>...</td>\n",
       "      <td>...</td>\n",
       "    </tr>\n",
       "    <tr>\n",
       "      <th>975</th>\n",
       "      <td>motorola</td>\n",
       "      <td>Motorola Moto Edge S30 Pro</td>\n",
       "      <td>snapdragon</td>\n",
       "    </tr>\n",
       "    <tr>\n",
       "      <th>976</th>\n",
       "      <td>honor</td>\n",
       "      <td>Honor X8 5G</td>\n",
       "      <td>snapdragon</td>\n",
       "    </tr>\n",
       "    <tr>\n",
       "      <th>977</th>\n",
       "      <td>poco</td>\n",
       "      <td>POCO X4 GT 5G (8GB RAM + 256GB)</td>\n",
       "      <td>dimensity</td>\n",
       "    </tr>\n",
       "    <tr>\n",
       "      <th>978</th>\n",
       "      <td>motorola</td>\n",
       "      <td>Motorola Moto G91 5G</td>\n",
       "      <td>snapdragon</td>\n",
       "    </tr>\n",
       "    <tr>\n",
       "      <th>979</th>\n",
       "      <td>samsung</td>\n",
       "      <td>Samsung Galaxy M52s 5G</td>\n",
       "      <td>NaN</td>\n",
       "    </tr>\n",
       "  </tbody>\n",
       "</table>\n",
       "<p>980 rows × 3 columns</p>\n",
       "</div>"
      ],
      "text/plain": [
       "    brand_name                            model processor_brand\n",
       "0      oneplus                    OnePlus 11 5G      snapdragon\n",
       "1      oneplus        OnePlus Nord CE 2 Lite 5G      snapdragon\n",
       "2      samsung            Samsung Galaxy A14 5G          exynos\n",
       "3     motorola             Motorola Moto G62 5G      snapdragon\n",
       "4       realme               Realme 10 Pro Plus       dimensity\n",
       "..         ...                              ...             ...\n",
       "975   motorola       Motorola Moto Edge S30 Pro      snapdragon\n",
       "976      honor                      Honor X8 5G      snapdragon\n",
       "977       poco  POCO X4 GT 5G (8GB RAM + 256GB)       dimensity\n",
       "978   motorola             Motorola Moto G91 5G      snapdragon\n",
       "979    samsung           Samsung Galaxy M52s 5G             NaN\n",
       "\n",
       "[980 rows x 3 columns]"
      ]
     },
     "execution_count": 84,
     "metadata": {},
     "output_type": "execute_result"
    }
   ],
   "source": [
    "new_df[['brand_name','model','processor_brand']]"
   ]
  },
  {
   "cell_type": "code",
   "execution_count": 86,
   "metadata": {
    "id": "s_mn4oHMhww9"
   },
   "outputs": [
    {
     "ename": "AttributeError",
     "evalue": "Can only use .str accessor with string values!",
     "output_type": "error",
     "traceback": [
      "\u001b[1;31m---------------------------------------------------------------------------\u001b[0m",
      "\u001b[1;31mAttributeError\u001b[0m                            Traceback (most recent call last)",
      "Cell \u001b[1;32mIn[86], line 1\u001b[0m\n\u001b[1;32m----> 1\u001b[0m new_df[\u001b[38;5;124m'\u001b[39m\u001b[38;5;124mnum_cores\u001b[39m\u001b[38;5;124m'\u001b[39m] \u001b[38;5;241m=\u001b[39m new_df[\u001b[38;5;124m'\u001b[39m\u001b[38;5;124mnum_cores\u001b[39m\u001b[38;5;124m'\u001b[39m]\u001b[38;5;241m.\u001b[39mstr\u001b[38;5;241m.\u001b[39mreplace(\u001b[38;5;124m'\u001b[39m\u001b[38;5;124mOcta Core\u001b[39m\u001b[38;5;124m'\u001b[39m,\u001b[38;5;124m'\u001b[39m\u001b[38;5;124m8\u001b[39m\u001b[38;5;124m'\u001b[39m)\n\u001b[0;32m      2\u001b[0m new_df[\u001b[38;5;124m'\u001b[39m\u001b[38;5;124mnum_cores\u001b[39m\u001b[38;5;124m'\u001b[39m] \u001b[38;5;241m=\u001b[39m new_df[\u001b[38;5;124m'\u001b[39m\u001b[38;5;124mnum_cores\u001b[39m\u001b[38;5;124m'\u001b[39m]\u001b[38;5;241m.\u001b[39mstr\u001b[38;5;241m.\u001b[39mreplace(\u001b[38;5;124m'\u001b[39m\u001b[38;5;124mHexa Core\u001b[39m\u001b[38;5;124m'\u001b[39m,\u001b[38;5;124m'\u001b[39m\u001b[38;5;124m6\u001b[39m\u001b[38;5;124m'\u001b[39m)\n\u001b[0;32m      3\u001b[0m new_df[\u001b[38;5;124m'\u001b[39m\u001b[38;5;124mnum_cores\u001b[39m\u001b[38;5;124m'\u001b[39m] \u001b[38;5;241m=\u001b[39m new_df[\u001b[38;5;124m'\u001b[39m\u001b[38;5;124mnum_cores\u001b[39m\u001b[38;5;124m'\u001b[39m]\u001b[38;5;241m.\u001b[39mstr\u001b[38;5;241m.\u001b[39mreplace(\u001b[38;5;124m'\u001b[39m\u001b[38;5;124mQuad Core\u001b[39m\u001b[38;5;124m'\u001b[39m,\u001b[38;5;124m'\u001b[39m\u001b[38;5;124m4\u001b[39m\u001b[38;5;124m'\u001b[39m)\n",
      "File \u001b[1;32m~\\AppData\\Local\\Programs\\Python\\Python311\\Lib\\site-packages\\pandas\\core\\generic.py:5902\u001b[0m, in \u001b[0;36mNDFrame.__getattr__\u001b[1;34m(self, name)\u001b[0m\n\u001b[0;32m   5895\u001b[0m \u001b[38;5;28;01mif\u001b[39;00m (\n\u001b[0;32m   5896\u001b[0m     name \u001b[38;5;129;01mnot\u001b[39;00m \u001b[38;5;129;01min\u001b[39;00m \u001b[38;5;28mself\u001b[39m\u001b[38;5;241m.\u001b[39m_internal_names_set\n\u001b[0;32m   5897\u001b[0m     \u001b[38;5;129;01mand\u001b[39;00m name \u001b[38;5;129;01mnot\u001b[39;00m \u001b[38;5;129;01min\u001b[39;00m \u001b[38;5;28mself\u001b[39m\u001b[38;5;241m.\u001b[39m_metadata\n\u001b[0;32m   5898\u001b[0m     \u001b[38;5;129;01mand\u001b[39;00m name \u001b[38;5;129;01mnot\u001b[39;00m \u001b[38;5;129;01min\u001b[39;00m \u001b[38;5;28mself\u001b[39m\u001b[38;5;241m.\u001b[39m_accessors\n\u001b[0;32m   5899\u001b[0m     \u001b[38;5;129;01mand\u001b[39;00m \u001b[38;5;28mself\u001b[39m\u001b[38;5;241m.\u001b[39m_info_axis\u001b[38;5;241m.\u001b[39m_can_hold_identifiers_and_holds_name(name)\n\u001b[0;32m   5900\u001b[0m ):\n\u001b[0;32m   5901\u001b[0m     \u001b[38;5;28;01mreturn\u001b[39;00m \u001b[38;5;28mself\u001b[39m[name]\n\u001b[1;32m-> 5902\u001b[0m \u001b[38;5;28;01mreturn\u001b[39;00m \u001b[38;5;28mobject\u001b[39m\u001b[38;5;241m.\u001b[39m\u001b[38;5;21m__getattribute__\u001b[39m(\u001b[38;5;28mself\u001b[39m, name)\n",
      "File \u001b[1;32m~\\AppData\\Local\\Programs\\Python\\Python311\\Lib\\site-packages\\pandas\\core\\accessor.py:182\u001b[0m, in \u001b[0;36mCachedAccessor.__get__\u001b[1;34m(self, obj, cls)\u001b[0m\n\u001b[0;32m    179\u001b[0m \u001b[38;5;28;01mif\u001b[39;00m obj \u001b[38;5;129;01mis\u001b[39;00m \u001b[38;5;28;01mNone\u001b[39;00m:\n\u001b[0;32m    180\u001b[0m     \u001b[38;5;66;03m# we're accessing the attribute of the class, i.e., Dataset.geo\u001b[39;00m\n\u001b[0;32m    181\u001b[0m     \u001b[38;5;28;01mreturn\u001b[39;00m \u001b[38;5;28mself\u001b[39m\u001b[38;5;241m.\u001b[39m_accessor\n\u001b[1;32m--> 182\u001b[0m accessor_obj \u001b[38;5;241m=\u001b[39m \u001b[38;5;28mself\u001b[39m\u001b[38;5;241m.\u001b[39m_accessor(obj)\n\u001b[0;32m    183\u001b[0m \u001b[38;5;66;03m# Replace the property with the accessor object. Inspired by:\u001b[39;00m\n\u001b[0;32m    184\u001b[0m \u001b[38;5;66;03m# https://www.pydanny.com/cached-property.html\u001b[39;00m\n\u001b[0;32m    185\u001b[0m \u001b[38;5;66;03m# We need to use object.__setattr__ because we overwrite __setattr__ on\u001b[39;00m\n\u001b[0;32m    186\u001b[0m \u001b[38;5;66;03m# NDFrame\u001b[39;00m\n\u001b[0;32m    187\u001b[0m \u001b[38;5;28mobject\u001b[39m\u001b[38;5;241m.\u001b[39m\u001b[38;5;21m__setattr__\u001b[39m(obj, \u001b[38;5;28mself\u001b[39m\u001b[38;5;241m.\u001b[39m_name, accessor_obj)\n",
      "File \u001b[1;32m~\\AppData\\Local\\Programs\\Python\\Python311\\Lib\\site-packages\\pandas\\core\\strings\\accessor.py:181\u001b[0m, in \u001b[0;36mStringMethods.__init__\u001b[1;34m(self, data)\u001b[0m\n\u001b[0;32m    178\u001b[0m \u001b[38;5;28;01mdef\u001b[39;00m \u001b[38;5;21m__init__\u001b[39m(\u001b[38;5;28mself\u001b[39m, data) \u001b[38;5;241m-\u001b[39m\u001b[38;5;241m>\u001b[39m \u001b[38;5;28;01mNone\u001b[39;00m:\n\u001b[0;32m    179\u001b[0m     \u001b[38;5;28;01mfrom\u001b[39;00m \u001b[38;5;21;01mpandas\u001b[39;00m\u001b[38;5;21;01m.\u001b[39;00m\u001b[38;5;21;01mcore\u001b[39;00m\u001b[38;5;21;01m.\u001b[39;00m\u001b[38;5;21;01marrays\u001b[39;00m\u001b[38;5;21;01m.\u001b[39;00m\u001b[38;5;21;01mstring_\u001b[39;00m \u001b[38;5;28;01mimport\u001b[39;00m StringDtype\n\u001b[1;32m--> 181\u001b[0m     \u001b[38;5;28mself\u001b[39m\u001b[38;5;241m.\u001b[39m_inferred_dtype \u001b[38;5;241m=\u001b[39m \u001b[38;5;28mself\u001b[39m\u001b[38;5;241m.\u001b[39m_validate(data)\n\u001b[0;32m    182\u001b[0m     \u001b[38;5;28mself\u001b[39m\u001b[38;5;241m.\u001b[39m_is_categorical \u001b[38;5;241m=\u001b[39m is_categorical_dtype(data\u001b[38;5;241m.\u001b[39mdtype)\n\u001b[0;32m    183\u001b[0m     \u001b[38;5;28mself\u001b[39m\u001b[38;5;241m.\u001b[39m_is_string \u001b[38;5;241m=\u001b[39m \u001b[38;5;28misinstance\u001b[39m(data\u001b[38;5;241m.\u001b[39mdtype, StringDtype)\n",
      "File \u001b[1;32m~\\AppData\\Local\\Programs\\Python\\Python311\\Lib\\site-packages\\pandas\\core\\strings\\accessor.py:235\u001b[0m, in \u001b[0;36mStringMethods._validate\u001b[1;34m(data)\u001b[0m\n\u001b[0;32m    232\u001b[0m inferred_dtype \u001b[38;5;241m=\u001b[39m lib\u001b[38;5;241m.\u001b[39minfer_dtype(values, skipna\u001b[38;5;241m=\u001b[39m\u001b[38;5;28;01mTrue\u001b[39;00m)\n\u001b[0;32m    234\u001b[0m \u001b[38;5;28;01mif\u001b[39;00m inferred_dtype \u001b[38;5;129;01mnot\u001b[39;00m \u001b[38;5;129;01min\u001b[39;00m allowed_types:\n\u001b[1;32m--> 235\u001b[0m     \u001b[38;5;28;01mraise\u001b[39;00m \u001b[38;5;167;01mAttributeError\u001b[39;00m(\u001b[38;5;124m\"\u001b[39m\u001b[38;5;124mCan only use .str accessor with string values!\u001b[39m\u001b[38;5;124m\"\u001b[39m)\n\u001b[0;32m    236\u001b[0m \u001b[38;5;28;01mreturn\u001b[39;00m inferred_dtype\n",
      "\u001b[1;31mAttributeError\u001b[0m: Can only use .str accessor with string values!"
     ]
    }
   ],
   "source": [
    "new_df['num_cores'] = new_df['num_cores'].str.replace('Octa Core','8')\n",
    "new_df['num_cores'] = new_df['num_cores'].str.replace('Hexa Core','6')\n",
    "new_df['num_cores'] = new_df['num_cores'].str.replace('Quad Core','4')"
   ]
  },
  {
   "cell_type": "code",
   "execution_count": 87,
   "metadata": {
    "id": "Axs-KRpfh-4P"
   },
   "outputs": [],
   "source": [
    "new_df['num_cores'] = new_df['num_cores'].astype(float)"
   ]
  },
  {
   "cell_type": "code",
   "execution_count": 88,
   "metadata": {
    "colab": {
     "base_uri": "https://localhost:8080/"
    },
    "id": "S-698-i6iB1W",
    "outputId": "be6ba7e7-689d-4256-b09f-31a94bd0c56a"
   },
   "outputs": [
    {
     "data": {
      "text/plain": [
       "brand_name                     0\n",
       "model                          0\n",
       "price                          0\n",
       "rating                       101\n",
       "has_5g                         0\n",
       "has_nfc                        0\n",
       "has_ir_blaster                 0\n",
       "processor_brand               20\n",
       "num_cores                      6\n",
       "processor_speed               42\n",
       "battery_capacity              11\n",
       "fast_charging_available        0\n",
       "fast_charging                211\n",
       "ram_capacity                   0\n",
       "internal_memory                0\n",
       "screen_size                    0\n",
       "refresh_rate                   0\n",
       "resolution                     0\n",
       "num_rear_cameras               0\n",
       "num_front_cameras              0\n",
       "os                            14\n",
       "primary_camera_rear            0\n",
       "primary_camera_front           5\n",
       "extended_memory_available      0\n",
       "extended_upto                480\n",
       "dtype: int64"
      ]
     },
     "execution_count": 88,
     "metadata": {},
     "output_type": "execute_result"
    }
   ],
   "source": [
    "new_df.isnull().sum()"
   ]
  },
  {
   "cell_type": "code",
   "execution_count": 89,
   "metadata": {
    "id": "wN7WnnYjij9v"
   },
   "outputs": [],
   "source": [
    "new_df.to_csv('smartphone_cleaned_v5.csv',index=False)"
   ]
  },
  {
   "cell_type": "code",
   "execution_count": 90,
   "metadata": {
    "colab": {
     "base_uri": "https://localhost:8080/",
     "height": 423
    },
    "id": "JpKrhQSWmHsR",
    "outputId": "909b0c5e-68ed-4315-9c7a-e40dc60935f6"
   },
   "outputs": [
    {
     "data": {
      "text/html": [
       "<div>\n",
       "<style scoped>\n",
       "    .dataframe tbody tr th:only-of-type {\n",
       "        vertical-align: middle;\n",
       "    }\n",
       "\n",
       "    .dataframe tbody tr th {\n",
       "        vertical-align: top;\n",
       "    }\n",
       "\n",
       "    .dataframe thead th {\n",
       "        text-align: right;\n",
       "    }\n",
       "</style>\n",
       "<table border=\"1\" class=\"dataframe\">\n",
       "  <thead>\n",
       "    <tr style=\"text-align: right;\">\n",
       "      <th></th>\n",
       "      <th>brand_name</th>\n",
       "      <th>model</th>\n",
       "      <th>processor_brand</th>\n",
       "      <th>resolution</th>\n",
       "      <th>num_front_cameras</th>\n",
       "      <th>os</th>\n",
       "    </tr>\n",
       "  </thead>\n",
       "  <tbody>\n",
       "    <tr>\n",
       "      <th>0</th>\n",
       "      <td>oneplus</td>\n",
       "      <td>OnePlus 11 5G</td>\n",
       "      <td>snapdragon</td>\n",
       "      <td>1440 x 3216</td>\n",
       "      <td>1</td>\n",
       "      <td>android</td>\n",
       "    </tr>\n",
       "    <tr>\n",
       "      <th>1</th>\n",
       "      <td>oneplus</td>\n",
       "      <td>OnePlus Nord CE 2 Lite 5G</td>\n",
       "      <td>snapdragon</td>\n",
       "      <td>1080 x 2412</td>\n",
       "      <td>1</td>\n",
       "      <td>android</td>\n",
       "    </tr>\n",
       "    <tr>\n",
       "      <th>2</th>\n",
       "      <td>samsung</td>\n",
       "      <td>Samsung Galaxy A14 5G</td>\n",
       "      <td>exynos</td>\n",
       "      <td>1080 x 2408</td>\n",
       "      <td>1</td>\n",
       "      <td>android</td>\n",
       "    </tr>\n",
       "    <tr>\n",
       "      <th>3</th>\n",
       "      <td>motorola</td>\n",
       "      <td>Motorola Moto G62 5G</td>\n",
       "      <td>snapdragon</td>\n",
       "      <td>1080 x 2400</td>\n",
       "      <td>1</td>\n",
       "      <td>android</td>\n",
       "    </tr>\n",
       "    <tr>\n",
       "      <th>4</th>\n",
       "      <td>realme</td>\n",
       "      <td>Realme 10 Pro Plus</td>\n",
       "      <td>dimensity</td>\n",
       "      <td>1080 x 2412</td>\n",
       "      <td>1</td>\n",
       "      <td>android</td>\n",
       "    </tr>\n",
       "    <tr>\n",
       "      <th>...</th>\n",
       "      <td>...</td>\n",
       "      <td>...</td>\n",
       "      <td>...</td>\n",
       "      <td>...</td>\n",
       "      <td>...</td>\n",
       "      <td>...</td>\n",
       "    </tr>\n",
       "    <tr>\n",
       "      <th>975</th>\n",
       "      <td>motorola</td>\n",
       "      <td>Motorola Moto Edge S30 Pro</td>\n",
       "      <td>snapdragon</td>\n",
       "      <td>1080 x 2460</td>\n",
       "      <td>1</td>\n",
       "      <td>android</td>\n",
       "    </tr>\n",
       "    <tr>\n",
       "      <th>976</th>\n",
       "      <td>honor</td>\n",
       "      <td>Honor X8 5G</td>\n",
       "      <td>snapdragon</td>\n",
       "      <td>720 x 1600</td>\n",
       "      <td>1</td>\n",
       "      <td>android</td>\n",
       "    </tr>\n",
       "    <tr>\n",
       "      <th>977</th>\n",
       "      <td>poco</td>\n",
       "      <td>POCO X4 GT 5G (8GB RAM + 256GB)</td>\n",
       "      <td>dimensity</td>\n",
       "      <td>1080 x 2460</td>\n",
       "      <td>1</td>\n",
       "      <td>android</td>\n",
       "    </tr>\n",
       "    <tr>\n",
       "      <th>978</th>\n",
       "      <td>motorola</td>\n",
       "      <td>Motorola Moto G91 5G</td>\n",
       "      <td>snapdragon</td>\n",
       "      <td>1080 x 2400</td>\n",
       "      <td>1</td>\n",
       "      <td>android</td>\n",
       "    </tr>\n",
       "    <tr>\n",
       "      <th>979</th>\n",
       "      <td>samsung</td>\n",
       "      <td>Samsung Galaxy M52s 5G</td>\n",
       "      <td>NaN</td>\n",
       "      <td>1080 x 2400</td>\n",
       "      <td>1</td>\n",
       "      <td>android</td>\n",
       "    </tr>\n",
       "  </tbody>\n",
       "</table>\n",
       "<p>980 rows × 6 columns</p>\n",
       "</div>"
      ],
      "text/plain": [
       "    brand_name                            model processor_brand    resolution  \\\n",
       "0      oneplus                    OnePlus 11 5G      snapdragon  1440 x 3216    \n",
       "1      oneplus        OnePlus Nord CE 2 Lite 5G      snapdragon  1080 x 2412    \n",
       "2      samsung            Samsung Galaxy A14 5G          exynos  1080 x 2408    \n",
       "3     motorola             Motorola Moto G62 5G      snapdragon  1080 x 2400    \n",
       "4       realme               Realme 10 Pro Plus       dimensity  1080 x 2412    \n",
       "..         ...                              ...             ...           ...   \n",
       "975   motorola       Motorola Moto Edge S30 Pro      snapdragon  1080 x 2460    \n",
       "976      honor                      Honor X8 5G      snapdragon   720 x 1600    \n",
       "977       poco  POCO X4 GT 5G (8GB RAM + 256GB)       dimensity  1080 x 2460    \n",
       "978   motorola             Motorola Moto G91 5G      snapdragon  1080 x 2400    \n",
       "979    samsung           Samsung Galaxy M52s 5G             NaN  1080 x 2400    \n",
       "\n",
       "    num_front_cameras       os  \n",
       "0                   1  android  \n",
       "1                   1  android  \n",
       "2                   1  android  \n",
       "3                   1  android  \n",
       "4                   1  android  \n",
       "..                ...      ...  \n",
       "975                 1  android  \n",
       "976                 1  android  \n",
       "977                 1  android  \n",
       "978                 1  android  \n",
       "979                 1  android  \n",
       "\n",
       "[980 rows x 6 columns]"
      ]
     },
     "execution_count": 90,
     "metadata": {},
     "output_type": "execute_result"
    }
   ],
   "source": [
    "new_df.select_dtypes(include=['object'])"
   ]
  },
  {
   "cell_type": "code",
   "execution_count": 91,
   "metadata": {
    "id": "rWGxBB9zi6Eo"
   },
   "outputs": [
    {
     "ename": "NameError",
     "evalue": "name 'x_df' is not defined",
     "output_type": "error",
     "traceback": [
      "\u001b[1;31m---------------------------------------------------------------------------\u001b[0m",
      "\u001b[1;31mNameError\u001b[0m                                 Traceback (most recent call last)",
      "Cell \u001b[1;32mIn[91], line 5\u001b[0m\n\u001b[0;32m      1\u001b[0m \u001b[38;5;28;01mfrom\u001b[39;00m \u001b[38;5;21;01msklearn\u001b[39;00m\u001b[38;5;21;01m.\u001b[39;00m\u001b[38;5;21;01mimpute\u001b[39;00m \u001b[38;5;28;01mimport\u001b[39;00m KNNImputer\n\u001b[0;32m      3\u001b[0m knn \u001b[38;5;241m=\u001b[39m KNNImputer(n_neighbors\u001b[38;5;241m=\u001b[39m\u001b[38;5;241m3\u001b[39m,weights\u001b[38;5;241m=\u001b[39m\u001b[38;5;124m'\u001b[39m\u001b[38;5;124mdistance\u001b[39m\u001b[38;5;124m'\u001b[39m)\n\u001b[1;32m----> 5\u001b[0m return_array \u001b[38;5;241m=\u001b[39m knn\u001b[38;5;241m.\u001b[39mfit_transform(x_df)\n",
      "\u001b[1;31mNameError\u001b[0m: name 'x_df' is not defined"
     ]
    }
   ],
   "source": [
    "from sklearn.impute import KNNImputer\n",
    "\n",
    "knn = KNNImputer(n_neighbors=3,weights='distance')\n",
    "\n",
    "return_array = knn.fit_transform(x_df)"
   ]
  },
  {
   "cell_type": "code",
   "execution_count": null,
   "metadata": {
    "id": "J8YPd9PMlYpr"
   },
   "outputs": [],
   "source": [
    "x = pd.DataFrame(return_array, columns=x_df.columns).corr()['price'].reset_index()"
   ]
  },
  {
   "cell_type": "code",
   "execution_count": null,
   "metadata": {
    "id": "QoaMegucm_Zm"
   },
   "outputs": [],
   "source": [
    "y = new_df.corr()['price'].reset_index()"
   ]
  },
  {
   "cell_type": "code",
   "execution_count": null,
   "metadata": {
    "colab": {
     "base_uri": "https://localhost:8080/",
     "height": 582
    },
    "id": "MFvon2bWnKvu",
    "outputId": "a61a86ab-b71b-4ff5-ecb6-79c4b97e8792"
   },
   "outputs": [],
   "source": [
    "x.merge(y,on='index')"
   ]
  },
  {
   "cell_type": "code",
   "execution_count": null,
   "metadata": {
    "colab": {
     "base_uri": "https://localhost:8080/",
     "height": 852
    },
    "id": "C9me9TGNo3bU",
    "outputId": "50c744af-2685-47c9-a398-e6ff0adecf93"
   },
   "outputs": [],
   "source": [
    "pd.get_dummies(new_df,columns=['brand_name','processor_brand','os'],drop_first=True)"
   ]
  },
  {
   "cell_type": "code",
   "execution_count": null,
   "metadata": {
    "id": "yWZ2APTIq53X"
   },
   "outputs": [],
   "source": [
    "new_df['brand_name'] = new_df['brand_name'].astype('category')"
   ]
  },
  {
   "cell_type": "code",
   "execution_count": null,
   "metadata": {
    "colab": {
     "base_uri": "https://localhost:8080/",
     "height": 426
    },
    "id": "kEFmakG8rYmL",
    "outputId": "f283ba6a-5cb8-4be4-84a3-9a8aa0c642c7"
   },
   "outputs": [],
   "source": [
    "new_df.head()"
   ]
  },
  {
   "cell_type": "code",
   "execution_count": null,
   "metadata": {
    "id": "SXVLeNZirr07"
   },
   "outputs": [],
   "source": []
  }
 ],
 "metadata": {
  "colab": {
   "provenance": []
  },
  "kernelspec": {
   "display_name": "Python 3 (ipykernel)",
   "language": "python",
   "name": "python3"
  },
  "language_info": {
   "codemirror_mode": {
    "name": "ipython",
    "version": 3
   },
   "file_extension": ".py",
   "mimetype": "text/x-python",
   "name": "python",
   "nbconvert_exporter": "python",
   "pygments_lexer": "ipython3",
   "version": "3.11.3"
  }
 },
 "nbformat": 4,
 "nbformat_minor": 4
}
